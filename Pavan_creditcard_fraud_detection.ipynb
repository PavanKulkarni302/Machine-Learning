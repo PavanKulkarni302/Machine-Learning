{
 "cells": [
  {
   "cell_type": "code",
   "execution_count": null,
   "id": "bfb591e1",
   "metadata": {},
   "outputs": [],
   "source": []
  },
  {
   "cell_type": "code",
   "execution_count": 98,
   "id": "67792509",
   "metadata": {},
   "outputs": [],
   "source": [
    "import pandas as pd\n",
    "import numpy as np\n",
    "import matplotlib.pyplot as plt\n",
    "import seaborn as sns\n",
    "from sklearn.metrics import confusion_matrix, classification_report, accuracy_score, f1_score, precision_score, recall_score\n",
    "import sklearn.metrics as metric\n",
    "from sklearn.metrics import roc_curve\n",
    "from sklearn.metrics import roc_auc_score\n",
    "from sklearn.model_selection import cross_val_score"
   ]
  },
  {
   "cell_type": "code",
   "execution_count": null,
   "id": "abf8f8a5",
   "metadata": {},
   "outputs": [],
   "source": []
  },
  {
   "cell_type": "code",
   "execution_count": 2,
   "id": "4231d67a",
   "metadata": {},
   "outputs": [],
   "source": [
    "cred = pd.read_csv(\"creditcard.csv\")"
   ]
  },
  {
   "cell_type": "code",
   "execution_count": 3,
   "id": "aef93b3a",
   "metadata": {},
   "outputs": [
    {
     "data": {
      "text/html": [
       "<div>\n",
       "<style scoped>\n",
       "    .dataframe tbody tr th:only-of-type {\n",
       "        vertical-align: middle;\n",
       "    }\n",
       "\n",
       "    .dataframe tbody tr th {\n",
       "        vertical-align: top;\n",
       "    }\n",
       "\n",
       "    .dataframe thead th {\n",
       "        text-align: right;\n",
       "    }\n",
       "</style>\n",
       "<table border=\"1\" class=\"dataframe\">\n",
       "  <thead>\n",
       "    <tr style=\"text-align: right;\">\n",
       "      <th></th>\n",
       "      <th>Time</th>\n",
       "      <th>V1</th>\n",
       "      <th>V2</th>\n",
       "      <th>V3</th>\n",
       "      <th>V4</th>\n",
       "      <th>V5</th>\n",
       "      <th>V6</th>\n",
       "      <th>V7</th>\n",
       "      <th>V8</th>\n",
       "      <th>V9</th>\n",
       "      <th>...</th>\n",
       "      <th>V21</th>\n",
       "      <th>V22</th>\n",
       "      <th>V23</th>\n",
       "      <th>V24</th>\n",
       "      <th>V25</th>\n",
       "      <th>V26</th>\n",
       "      <th>V27</th>\n",
       "      <th>V28</th>\n",
       "      <th>Amount</th>\n",
       "      <th>Class</th>\n",
       "    </tr>\n",![](ROC.png)
       "  </thead>\n",
       "  <tbody>\n",
       "    <tr>\n",
       "      <th>0</th>\n",
       "      <td>0.0</td>\n",
       "      <td>-1.359807</td>\n",
       "      <td>-0.072781</td>\n",
       "      <td>2.536347</td>\n",
       "      <td>1.378155</td>\n",
       "      <td>-0.338321</td>\n",
       "      <td>0.462388</td>\n",
       "      <td>0.239599</td>\n",
       "      <td>0.098698</td>\n",
       "      <td>0.363787</td>\n",
       "      <td>...</td>\n",
       "      <td>-0.018307</td>\n",
       "      <td>0.277838</td>\n",
       "      <td>-0.110474</td>\n",
       "      <td>0.066928</td>\n",
       "      <td>0.128539</td>\n",
       "      <td>-0.189115</td>\n",
       "      <td>0.133558</td>\n",
       "      <td>-0.021053</td>\n",
       "      <td>149.62</td>\n",
       "      <td>0</td>\n",
       "    </tr>\n",
       "    <tr>\n",
       "      <th>1</th>\n",
       "      <td>0.0</td>\n",
       "      <td>1.191857</td>\n",
       "      <td>0.266151</td>\n",
       "      <td>0.166480</td>\n",
       "      <td>0.448154</td>\n",
       "      <td>0.060018</td>\n",
       "      <td>-0.082361</td>\n",
       "      <td>-0.078803</td>\n",
       "      <td>0.085102</td>\n",
       "      <td>-0.255425</td>\n",
       "      <td>...</td>\n",
       "      <td>-0.225775</td>\n",
       "      <td>-0.638672</td>\n",
       "      <td>0.101288</td>\n",
       "      <td>-0.339846</td>\n",
       "      <td>0.167170</td>\n",
       "      <td>0.125895</td>\n",
       "      <td>-0.008983</td>\n",
       "      <td>0.014724</td>\n",
       "      <td>2.69</td>\n",
       "      <td>0</td>\n",
       "    </tr>\n",
       "    <tr>\n",
       "      <th>2</th>\n",
       "      <td>1.0</td>\n",
       "      <td>-1.358354</td>\n",
       "      <td>-1.340163</td>\n",
       "      <td>1.773209</td>\n",
       "      <td>0.379780</td>\n",
       "      <td>-0.503198</td>\n",
       "      <td>1.800499</td>\n",
       "      <td>0.791461</td>\n",
       "      <td>0.247676</td>\n",
       "      <td>-1.514654</td>\n",
       "      <td>...</td>\n",
       "      <td>0.247998</td>\n",
       "      <td>0.771679</td>\n",
       "      <td>0.909412</td>\n",
       "      <td>-0.689281</td>\n",
       "      <td>-0.327642</td>\n",
       "      <td>-0.139097</td>\n",
       "      <td>-0.055353</td>\n",
       "      <td>-0.059752</td>\n",
       "      <td>378.66</td>\n",
       "      <td>0</td>\n",
       "    </tr>\n",
       "    <tr>\n",
       "      <th>3</th>\n",
       "      <td>1.0</td>\n",
       "      <td>-0.966272</td>\n",
       "      <td>-0.185226</td>\n",
       "      <td>1.792993</td>\n",
       "      <td>-0.863291</td>\n",
       "      <td>-0.010309</td>\n",
       "      <td>1.247203</td>\n",
       "      <td>0.237609</td>\n",
       "      <td>0.377436</td>\n",
       "      <td>-1.387024</td>\n",
       "      <td>...</td>\n",
       "      <td>-0.108300</td>\n",
       "      <td>0.005274</td>\n",
       "      <td>-0.190321</td>\n",
       "      <td>-1.175575</td>\n",
       "      <td>0.647376</td>\n",
       "      <td>-0.221929</td>\n",
       "      <td>0.062723</td>\n",
       "      <td>0.061458</td>\n",
       "      <td>123.50</td>\n",
       "      <td>0</td>\n",
       "    </tr>\n",
       "    <tr>\n",
       "      <th>4</th>\n",
       "      <td>2.0</td>\n",
       "      <td>-1.158233</td>\n",
       "      <td>0.877737</td>\n",
       "      <td>1.548718</td>\n",
       "      <td>0.403034</td>\n",
       "      <td>-0.407193</td>\n",
       "      <td>0.095921</td>\n",
       "      <td>0.592941</td>\n",
       "      <td>-0.270533</td>\n",
       "      <td>0.817739</td>\n",
       "      <td>...</td>\n",
       "      <td>-0.009431</td>\n",
       "      <td>0.798278</td>\n",
       "      <td>-0.137458</td>\n",
       "      <td>0.141267</td>\n",
       "      <td>-0.206010</td>\n",
       "      <td>0.502292</td>\n",
       "      <td>0.219422</td>\n",
       "      <td>0.215153</td>\n",
       "      <td>69.99</td>\n",
       "      <td>0</td>\n",
       "    </tr>\n",
       "  </tbody>\n",
       "</table>\n",
       "<p>5 rows × 31 columns</p>\n",
       "</div>"
      ],
      "text/plain": [
       "   Time        V1        V2        V3        V4        V5        V6        V7  \\\n",
       "0   0.0 -1.359807 -0.072781  2.536347  1.378155 -0.338321  0.462388  0.239599   \n",
       "1   0.0  1.191857  0.266151  0.166480  0.448154  0.060018 -0.082361 -0.078803   \n",
       "2   1.0 -1.358354 -1.340163  1.773209  0.379780 -0.503198  1.800499  0.791461   \n",
       "3   1.0 -0.966272 -0.185226  1.792993 -0.863291 -0.010309  1.247203  0.237609   \n",
       "4   2.0 -1.158233  0.877737  1.548718  0.403034 -0.407193  0.095921  0.592941   \n",
       "\n",
       "         V8        V9  ...       V21       V22       V23       V24       V25  \\\n",
       "0  0.098698  0.363787  ... -0.018307  0.277838 -0.110474  0.066928  0.128539   \n",
       "1  0.085102 -0.255425  ... -0.225775 -0.638672  0.101288 -0.339846  0.167170   \n",
       "2  0.247676 -1.514654  ...  0.247998  0.771679  0.909412 -0.689281 -0.327642   \n",
       "3  0.377436 -1.387024  ... -0.108300  0.005274 -0.190321 -1.175575  0.647376   \n",
       "4 -0.270533  0.817739  ... -0.009431  0.798278 -0.137458  0.141267 -0.206010   \n",
       "\n",
       "        V26       V27       V28  Amount  Class  \n",
       "0 -0.189115  0.133558 -0.021053  149.62      0  \n",
       "1  0.125895 -0.008983  0.014724    2.69      0  \n",
       "2 -0.139097 -0.055353 -0.059752  378.66      0  \n",
       "3 -0.221929  0.062723  0.061458  123.50      0  \n",
       "4  0.502292  0.219422  0.215153   69.99      0  \n",
       "\n",
       "[5 rows x 31 columns]"
      ]
     },
     "execution_count": 3,
     "metadata": {},
     "output_type": "execute_result"
    }
   ],
   "source": [
    "cred.head()"
   ]
  },
  {
   "cell_type": "code",
   "execution_count": 4,
   "id": "6c690522",
   "metadata": {},
   "outputs": [
    {
     "data": {
      "text/plain": [
       "(284807, 31)"
      ]
     },
     "execution_count": 4,
     "metadata": {},
     "output_type": "execute_result"
    }
   ],
   "source": [
    "cred.shape"
   ]
  },
  {
   "cell_type": "code",
   "execution_count": 5,
   "id": "c373cc7d",
   "metadata": {},
   "outputs": [
    {
     "name": "stdout",
     "output_type": "stream",
     "text": [
      "<class 'pandas.core.frame.DataFrame'>\n",
      "RangeIndex: 284807 entries, 0 to 284806\n",
      "Data columns (total 31 columns):\n",
      " #   Column  Non-Null Count   Dtype  \n",
      "---  ------  --------------   -----  \n",
      " 0   Time    284807 non-null  float64\n",
      " 1   V1      284807 non-null  float64\n",
      " 2   V2      284807 non-null  float64\n",
      " 3   V3      284807 non-null  float64\n",
      " 4   V4      284807 non-null  float64\n",
      " 5   V5      284807 non-null  float64\n",
      " 6   V6      284807 non-null  float64\n",
      " 7   V7      284807 non-null  float64\n",
      " 8   V8      284807 non-null  float64\n",
      " 9   V9      284807 non-null  float64\n",
      " 10  V10     284807 non-null  float64\n",
      " 11  V11     284807 non-null  float64\n",
      " 12  V12     284807 non-null  float64\n",
      " 13  V13     284807 non-null  float64\n",
      " 14  V14     284807 non-null  float64\n",
      " 15  V15     284807 non-null  float64\n",
      " 16  V16     284807 non-null  float64\n",
      " 17  V17     284807 non-null  float64\n",
      " 18  V18     284807 non-null  float64\n",
      " 19  V19     284807 non-null  float64\n",
      " 20  V20     284807 non-null  float64\n",
      " 21  V21     284807 non-null  float64\n",
      " 22  V22     284807 non-null  float64\n",
      " 23  V23     284807 non-null  float64\n",
      " 24  V24     284807 non-null  float64\n",
      " 25  V25     284807 non-null  float64\n",
      " 26  V26     284807 non-null  float64\n",
      " 27  V27     284807 non-null  float64\n",
      " 28  V28     284807 non-null  float64\n",
      " 29  Amount  284807 non-null  float64\n",
      " 30  Class   284807 non-null  int64  \n",
      "dtypes: float64(30), int64(1)\n",
      "memory usage: 67.4 MB\n"
     ]
    }
   ],
   "source": [
    "cred.info()"
   ]
  },
  {
   "cell_type": "code",
   "execution_count": 6,
   "id": "5b7c0965",
   "metadata": {},
   "outputs": [
    {
     "data": {
      "text/plain": [
       "Time      0\n",
       "V1        0\n",
       "V2        0\n",
       "V3        0\n",
       "V4        0\n",
       "V5        0\n",
       "V6        0\n",
       "V7        0\n",
       "V8        0\n",
       "V9        0\n",
       "V10       0\n",
       "V11       0\n",
       "V12       0\n",
       "V13       0\n",
       "V14       0\n",
       "V15       0\n",
       "V16       0\n",
       "V17       0\n",
       "V18       0\n",
       "V19       0\n",
       "V20       0\n",
       "V21       0\n",
       "V22       0\n",
       "V23       0\n",
       "V24       0\n",
       "V25       0\n",
       "V26       0\n",
       "V27       0\n",
       "V28       0\n",
       "Amount    0\n",
       "Class     0\n",
       "dtype: int64"
      ]
     },
     "execution_count": 6,
     "metadata": {},
     "output_type": "execute_result"
    }
   ],
   "source": [
    "cred.isnull().sum()"
   ]
  },
  {
   "cell_type": "code",
   "execution_count": 7,
   "id": "5e8837c6",
   "metadata": {},
   "outputs": [],
   "source": [
    "corr = cred.corr()"
   ]
  },
  {
   "cell_type": "code",
   "execution_count": 8,
   "id": "30764e3f",
   "metadata": {},
   "outputs": [
    {
     "data": {
      "image/png": "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\n",
      "text/plain": [
       "<Figure size 1440x1440 with 2 Axes>"
      ]
     },
     "metadata": {
      "needs_background": "light"
     },
     "output_type": "display_data"
    }
   ],
   "source": [
    "plt.figure(figsize = (20,20))\n",
    "sns.heatmap(corr, annot = True, linewidths=0.2, fmt=\".2f\")\n",
    "plt.show()"
   ]
  },
  {
   "cell_type": "code",
   "execution_count": null,
   "id": "d84818c4",
   "metadata": {},
   "outputs": [],
   "source": []
  },
  {
   "cell_type": "code",
   "execution_count": 9,
   "id": "3858a1d8",
   "metadata": {},
   "outputs": [
    {
     "data": {
      "text/plain": [
       "0    284315\n",
       "1       492\n",
       "Name: Class, dtype: int64"
      ]
     },
     "execution_count": 9,
     "metadata": {},
     "output_type": "execute_result"
    }
   ],
   "source": [
    "cred[\"Class\"].value_counts()"
   ]
  },
  {
   "cell_type": "code",
   "execution_count": 10,
   "id": "67aa19e6",
   "metadata": {},
   "outputs": [],
   "source": [
    "x = cred.iloc[:,:-1]\n",
    "y = cred.iloc[:,-1]"
   ]
  },
  {
   "cell_type": "code",
   "execution_count": 11,
   "id": "c3d9c8f6",
   "metadata": {},
   "outputs": [],
   "source": [
    "from sklearn.ensemble import ExtraTreesRegressor"
   ]
  },
  {
   "cell_type": "code",
   "execution_count": 12,
   "id": "ad6d57fb",
   "metadata": {},
   "outputs": [
    {
     "data": {
      "text/plain": [
       "ExtraTreesRegressor()"
      ]
     },
     "execution_count": 12,
     "metadata": {},
     "output_type": "execute_result"
    }
   ],
   "source": [
    "model = ExtraTreesRegressor()\n",
    "model.fit(x,y)"
   ]
  },
  {
   "cell_type": "code",
   "execution_count": 13,
   "id": "9f0bd1e9",
   "metadata": {},
   "outputs": [
    {
     "data": {
      "text/plain": [
       "<AxesSubplot:>"
      ]
     },
     "execution_count": 13,
     "metadata": {},
     "output_type": "execute_result"
    },
    {
     "data": {
      "image/png": "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\n",
      "text/plain": [
       "<Figure size 720x720 with 1 Axes>"
      ]
     },
     "metadata": {
      "needs_background": "light"
     },
     "output_type": "display_data"
    }
   ],
   "source": [
    " plt.figure(figsize = (10,10))\n",
    "feature_importances = pd.Series(model.feature_importances_ , index = x.columns)\n",
    "feature_importances.nlargest(15).plot(kind = 'barh')"
   ]
  },
  {
   "cell_type": "code",
   "execution_count": 14,
   "id": "968bcee8",
   "metadata": {},
   "outputs": [],
   "source": [
    "#!pip install imbalanced-learn"
   ]
  },
  {
   "cell_type": "code",
   "execution_count": 15,
   "id": "7c2bff18",
   "metadata": {},
   "outputs": [],
   "source": [
    "from imblearn.over_sampling import SMOTE"
   ]
  },
  {
   "cell_type": "code",
   "execution_count": 16,
   "id": "912c2106",
   "metadata": {},
   "outputs": [],
   "source": [
    "over_sample = SMOTE()"
   ]
  },
  {
   "cell_type": "code",
   "execution_count": 17,
   "id": "131501e9",
   "metadata": {},
   "outputs": [],
   "source": [
    "x,y = over_sample.fit_resample(x,y)"
   ]
  },
  {
   "cell_type": "code",
   "execution_count": 18,
   "id": "6849d902",
   "metadata": {},
   "outputs": [
    {
     "data": {
      "text/plain": [
       "568630"
      ]
     },
     "execution_count": 18,
     "metadata": {},
     "output_type": "execute_result"
    }
   ],
   "source": [
    "y.count()"
   ]
  },
  {
   "cell_type": "code",
   "execution_count": null,
   "id": "0cb47927",
   "metadata": {},
   "outputs": [],
   "source": []
  },
  {
   "cell_type": "code",
   "execution_count": 19,
   "id": "4cea72ca",
   "metadata": {},
   "outputs": [],
   "source": [
    "from collections import Counter"
   ]
  },
  {
   "cell_type": "code",
   "execution_count": 20,
   "id": "32504ce3",
   "metadata": {},
   "outputs": [
    {
     "name": "stdout",
     "output_type": "stream",
     "text": [
      "Counter({0: 284315, 1: 284315})\n"
     ]
    }
   ],
   "source": [
    "count = Counter(y)\n",
    "print(count)"
   ]
  },
  {
   "cell_type": "markdown",
   "id": "a5369605",
   "metadata": {},
   "source": [
    "# 1) Logistic regression\n"
   ]
  },
  {
   "cell_type": "code",
   "execution_count": 21,
   "id": "17586576",
   "metadata": {},
   "outputs": [],
   "source": [
    "from sklearn.model_selection import train_test_split\n",
    "from sklearn.linear_model import LogisticRegression"
   ]
  },
  {
   "cell_type": "code",
   "execution_count": 22,
   "id": "2c9b49f4",
   "metadata": {},
   "outputs": [],
   "source": [
    "X_train,X_test,y_train,y_test = train_test_split(x,y, test_size = 0.25, random_state = 0)"
   ]
  },
  {
   "cell_type": "code",
   "execution_count": 23,
   "id": "9e3cb6f4",
   "metadata": {},
   "outputs": [
    {
     "data": {
      "text/plain": [
       "LogisticRegression(max_iter=10000)"
      ]
     },
     "execution_count": 23,
     "metadata": {},
     "output_type": "execute_result"
    }
   ],
   "source": [
    "model = LogisticRegression(max_iter=10000)\n",
    "model.fit(X_train,y_train)"
   ]
  },
  {
   "cell_type": "code",
   "execution_count": 24,
   "id": "ef0f9959",
   "metadata": {},
   "outputs": [],
   "source": [
    "y_pred = model.predict(X_test)"
   ]
  },
  {
   "cell_type": "code",
   "execution_count": 25,
   "id": "d40c9aba",
   "metadata": {},
   "outputs": [],
   "source": [
    "cm = confusion_matrix(y_pred,y_test)"
   ]
  },
  {
   "cell_type": "code",
   "execution_count": 26,
   "id": "4b7fb3d1",
   "metadata": {},
   "outputs": [
    {
     "data": {
      "text/plain": [
       "array([[68531,  3810],\n",
       "       [ 2325, 67492]], dtype=int64)"
      ]
     },
     "execution_count": 26,
     "metadata": {},
     "output_type": "execute_result"
    }
   ],
   "source": [
    "cm"
   ]
  },
  {
   "cell_type": "code",
   "execution_count": 27,
   "id": "e9bc0309",
   "metadata": {},
   "outputs": [],
   "source": [
    "#!pip install --upgrade scikit-learn"
   ]
  },
  {
   "cell_type": "code",
   "execution_count": 28,
   "id": "99ca03f4",
   "metadata": {},
   "outputs": [],
   "source": [
    "from sklearn.metrics import plot_confusion_matrix"
   ]
  },
  {
   "cell_type": "code",
   "execution_count": 29,
   "id": "6a819401",
   "metadata": {},
   "outputs": [
    {
     "data": {
      "text/plain": [
       "<sklearn.metrics._plot.confusion_matrix.ConfusionMatrixDisplay at 0x276b069c340>"
      ]
     },
     "execution_count": 29,
     "metadata": {},
     "output_type": "execute_result"
    },
    {
     "data": {
      "image/png": "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\n",
      "text/plain": [
       "<Figure size 432x288 with 2 Axes>"
      ]
     },
     "metadata": {
      "needs_background": "light"
     },
     "output_type": "display_data"
    }
   ],
   "source": [
    "plot_confusion_matrix(model, X_test,y_test) "
   ]
  },
  {
   "cell_type": "code",
   "execution_count": null,
   "id": "bb5f82b3",
   "metadata": {},
   "outputs": [],
   "source": []
  },
  {
   "cell_type": "code",
   "execution_count": 30,
   "id": "44185611",
   "metadata": {},
   "outputs": [
    {
     "name": "stdout",
     "output_type": "stream",
     "text": [
      "              precision    recall  f1-score   support\n",
      "\n",
      "           0       0.97      0.95      0.96     72341\n",
      "           1       0.95      0.97      0.96     69817\n",
      "\n",
      "    accuracy                           0.96    142158\n",
      "   macro avg       0.96      0.96      0.96    142158\n",
      "weighted avg       0.96      0.96      0.96    142158\n",
      "\n"
     ]
    }
   ],
   "source": [
    "print(classification_report(y_pred,y_test))"
   ]
  },
  {
   "cell_type": "code",
   "execution_count": 31,
   "id": "3e334c5b",
   "metadata": {},
   "outputs": [],
   "source": [
    "Accuracy1      = accuracy_score(y_test, y_pred)\n",
    "Precision1     = precision_score(y_test, y_pred)\n",
    "Recall1        = recall_score(y_test, y_pred)\n",
    "F1_score1      = f1_score(y_test, y_pred)\n",
    "roc_auc_score1 = roc_auc_score(y_test,y_pred)"
   ]
  },
  {
   "cell_type": "code",
   "execution_count": 32,
   "id": "2ba1ac6b",
   "metadata": {},
   "outputs": [],
   "source": [
    "classification_matrix = {\"Accuracy\":Accuracy1, \"Precision\":Precision1, \"Recall\":Recall1, \"F1_score\":F1_score1,\"ROC_AUC\":roc_auc_score1}"
   ]
  },
  {
   "cell_type": "code",
   "execution_count": 33,
   "id": "f12190fe",
   "metadata": {},
   "outputs": [],
   "source": [
    "report_df1 = pd.DataFrame([classification_matrix])"
   ]
  },
  {
   "cell_type": "code",
   "execution_count": 34,
   "id": "5b37e778",
   "metadata": {},
   "outputs": [
    {
     "data": {
      "text/html": [
       "<div>\n",
       "<style scoped>\n",
       "    .dataframe tbody tr th:only-of-type {\n",
       "        vertical-align: middle;\n",
       "    }\n",
       "\n",
       "    .dataframe tbody tr th {\n",
       "        vertical-align: top;\n",
       "    }\n",
       "\n",
       "    .dataframe thead th {\n",
       "        text-align: right;\n",
       "    }\n",
       "</style>\n",
       "<table border=\"1\" class=\"dataframe\">\n",
       "  <thead>\n",
       "    <tr style=\"text-align: right;\">\n",
       "      <th></th>\n",
       "      <th>0</th>\n",
       "    </tr>\n",
       "  </thead>\n",
       "  <tbody>\n",
       "    <tr>\n",
       "      <th>Accuracy</th>\n",
       "      <td>0.956844</td>\n",
       "    </tr>\n",
       "    <tr>\n",
       "      <th>Precision</th>\n",
       "      <td>0.966699</td>\n",
       "    </tr>\n",
       "    <tr>\n",
       "      <th>Recall</th>\n",
       "      <td>0.946565</td>\n",
       "    </tr>\n",
       "    <tr>\n",
       "      <th>F1_score</th>\n",
       "      <td>0.956526</td>\n",
       "    </tr>\n",
       "    <tr>\n",
       "      <th>ROC_AUC</th>\n",
       "      <td>0.956876</td>\n",
       "    </tr>\n",
       "  </tbody>\n",
       "</table>\n",
       "</div>"
      ],
      "text/plain": [
       "                  0\n",
       "Accuracy   0.956844\n",
       "Precision  0.966699\n",
       "Recall     0.946565\n",
       "F1_score   0.956526\n",
       "ROC_AUC    0.956876"
      ]
     },
     "execution_count": 34,
     "metadata": {},
     "output_type": "execute_result"
    }
   ],
   "source": [
    "report_df1.transpose()"
   ]
  },
  {
   "cell_type": "code",
   "execution_count": 35,
   "id": "b8003db9",
   "metadata": {},
   "outputs": [],
   "source": [
    "from sklearn.metrics import roc_curve\n",
    "from sklearn.metrics import roc_auc_score"
   ]
  },
  {
   "cell_type": "code",
   "execution_count": 36,
   "id": "aec733e3",
   "metadata": {},
   "outputs": [],
   "source": [
    "fpr1, tpr1, thresh1 = roc_curve(y_test, y_pred, pos_label=1)\n",
    "\n",
    "# roc curve for tpr = fpr \n",
    "random_probs = [0 for i in range(len(y_test))]\n",
    "p_fpr, p_tpr, _ = roc_curve(y_test, random_probs, pos_label=1)"
   ]
  },
  {
   "cell_type": "code",
   "execution_count": 37,
   "id": "21a04aa5",
   "metadata": {},
   "outputs": [
    {
     "name": "stdout",
     "output_type": "stream",
     "text": [
      "0.9568761422467664\n"
     ]
    }
   ],
   "source": [
    "roc_auc_score1 = roc_auc_score(y_test,y_pred)\n",
    "\n",
    "print(roc_auc_score1)"
   ]
  },
  {
   "cell_type": "code",
   "execution_count": 38,
   "id": "76f52d76",
   "metadata": {},
   "outputs": [
    {
     "data": {
      "image/png": "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\n",
      "text/plain": [
       "<Figure size 720x720 with 1 Axes>"
      ]
     },
     "metadata": {
      "needs_background": "light"
     },
     "output_type": "display_data"
    }
   ],
   "source": [
    "plt.figure(figsize = (10,10))\n",
    "plt.plot(fpr1, tpr1, linestyle='-',color='green', label='Logistic Regression')\n",
    "plt.plot(p_fpr, p_tpr, linestyle='--', color='blue')\n",
    "# title\n",
    "plt.title('Reciver opersting charecteristics(ROC curv)')\n",
    "# x label\n",
    "plt.xlabel('False Positive Rate')\n",
    "# y label\n",
    "plt.ylabel('True Positive rate')\n",
    "\n",
    "plt.legend(loc='best')\n",
    "plt.savefig('ROC',dpi=300)\n",
    "plt.show();"
   ]
  },
  {
   "cell_type": "code",
   "execution_count": 100,
   "id": "092008b3",
   "metadata": {},
   "outputs": [],
   "source": [
    "scores = cross_val_score(model, x, y, cv=5)"
   ]
  },
  {
   "cell_type": "code",
   "execution_count": 101,
   "id": "b6db0929",
   "metadata": {},
   "outputs": [
    {
     "data": {
      "text/plain": [
       "array([0.93639097, 0.97238978, 0.97419236, 0.97399012, 0.97871199])"
      ]
     },
     "execution_count": 101,
     "metadata": {},
     "output_type": "execute_result"
    }
   ],
   "source": [
    "scores"
   ]
  },
  {
   "cell_type": "code",
   "execution_count": 39,
   "id": "09d89fe0",
   "metadata": {},
   "outputs": [],
   "source": [
    "#!pip install plot_metric"
   ]
  },
  {
   "cell_type": "code",
   "execution_count": 40,
   "id": "c1f7ecae",
   "metadata": {},
   "outputs": [
    {
     "data": {
      "image/png": "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\n",
      "text/plain": [
       "<Figure size 720x720 with 1 Axes>"
      ]
     },
     "metadata": {},
     "output_type": "display_data"
    }
   ],
   "source": [
    "from plot_metric.functions import BinaryClassification\n",
    "# Visualisation with plot_metric\n",
    "bc = BinaryClassification(y_test, y_pred, labels=[\"Class 1\", \"Class 2\"])\n",
    "\n",
    "# Figures\n",
    "plt.figure(figsize=(10,10))\n",
    "bc.plot_roc_curve()\n",
    "plt.show()"
   ]
  },
  {
   "cell_type": "code",
   "execution_count": null,
   "id": "cbe69819",
   "metadata": {},
   "outputs": [],
   "source": []
  },
  {
   "cell_type": "markdown",
   "id": "2d983aa1",
   "metadata": {},
   "source": [
    "# Decision tree"
   ]
  },
  {
   "cell_type": "markdown",
   "id": "b422824a",
   "metadata": {},
   "source": [
    "### Gridsearchcv"
   ]
  },
  {
   "cell_type": "code",
   "execution_count": 41,
   "id": "6d1c5933",
   "metadata": {},
   "outputs": [],
   "source": [
    "from sklearn.tree import DecisionTreeClassifier"
   ]
  },
  {
   "cell_type": "code",
   "execution_count": 42,
   "id": "fc3754db",
   "metadata": {},
   "outputs": [],
   "source": [
    "from sklearn.model_selection import GridSearchCV"
   ]
  },
  {
   "cell_type": "code",
   "execution_count": 43,
   "id": "461916fb",
   "metadata": {},
   "outputs": [],
   "source": [
    "param_grid ={\n",
    "    'criterion' : ['gini','entropy'],\n",
    "    'max_depth' : [2,3,4,5,6,7],\n",
    "    'max_features':[4,5,6,7,8]\n",
    "}"
   ]
  },
  {
   "cell_type": "code",
   "execution_count": 44,
   "id": "c1ad159d",
   "metadata": {},
   "outputs": [],
   "source": [
    "model2 = DecisionTreeClassifier()"
   ]
  },
  {
   "cell_type": "code",
   "execution_count": 45,
   "id": "7b25139b",
   "metadata": {},
   "outputs": [],
   "source": [
    "gridsearch = GridSearchCV(estimator=model2,param_grid=param_grid,cv=10)"
   ]
  },
  {
   "cell_type": "code",
   "execution_count": 46,
   "id": "0a9a3178",
   "metadata": {},
   "outputs": [
    {
     "data": {
      "text/plain": [
       "GridSearchCV(cv=10, estimator=DecisionTreeClassifier(),\n",
       "             param_grid={'criterion': ['gini', 'entropy'],\n",
       "                         'max_depth': [2, 3, 4, 5, 6, 7],\n",
       "                         'max_features': [4, 5, 6, 7, 8]})"
      ]
     },
     "execution_count": 46,
     "metadata": {},
     "output_type": "execute_result"
    }
   ],
   "source": [
    "gridsearch.fit(X_train,y_train)"
   ]
  },
  {
   "cell_type": "code",
   "execution_count": 47,
   "id": "b1de6b4d",
   "metadata": {},
   "outputs": [
    {
     "data": {
      "text/plain": [
       "0.975949295853909"
      ]
     },
     "execution_count": 47,
     "metadata": {},
     "output_type": "execute_result"
    }
   ],
   "source": [
    "gridsearch.score(X_test,y_test)"
   ]
  },
  {
   "cell_type": "code",
   "execution_count": 48,
   "id": "00420d11",
   "metadata": {},
   "outputs": [
    {
     "data": {
      "text/plain": [
       "0.9768073871203736"
      ]
     },
     "execution_count": 48,
     "metadata": {},
     "output_type": "execute_result"
    }
   ],
   "source": [
    "gridsearch.score(X_train,y_train)"
   ]
  },
  {
   "cell_type": "code",
   "execution_count": 49,
   "id": "a7d1d6ab",
   "metadata": {},
   "outputs": [],
   "source": [
    "y_pred2 = gridsearch.predict(X_test)"
   ]
  },
  {
   "cell_type": "code",
   "execution_count": null,
   "id": "e58b553f",
   "metadata": {},
   "outputs": [],
   "source": []
  },
  {
   "cell_type": "code",
   "execution_count": 50,
   "id": "25a47c6a",
   "metadata": {},
   "outputs": [],
   "source": [
    "cm2 = confusion_matrix(y_test,y_pred2)"
   ]
  },
  {
   "cell_type": "code",
   "execution_count": 51,
   "id": "1bb03b6b",
   "metadata": {},
   "outputs": [
    {
     "data": {
      "text/plain": [
       "array([[69995,   861],\n",
       "       [ 2558, 68744]], dtype=int64)"
      ]
     },
     "execution_count": 51,
     "metadata": {},
     "output_type": "execute_result"
    }
   ],
   "source": [
    "cm2"
   ]
  },
  {
   "cell_type": "code",
   "execution_count": 52,
   "id": "5f66e272",
   "metadata": {},
   "outputs": [
    {
     "data": {
      "text/plain": [
       "<sklearn.metrics._plot.confusion_matrix.ConfusionMatrixDisplay at 0x276b09eb940>"
      ]
     },
     "execution_count": 52,
     "metadata": {},
     "output_type": "execute_result"
    },
    {
     "data": {
      "image/png": "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\n",
      "text/plain": [
       "<Figure size 432x288 with 2 Axes>"
      ]
     },
     "metadata": {},
     "output_type": "display_data"
    }
   ],
   "source": [
    "plot_confusion_matrix(gridsearch,X_test, y_test)"
   ]
  },
  {
   "cell_type": "code",
   "execution_count": 53,
   "id": "f499cab1",
   "metadata": {},
   "outputs": [
    {
     "name": "stdout",
     "output_type": "stream",
     "text": [
      "              precision    recall  f1-score   support\n",
      "\n",
      "           0       0.99      0.96      0.98     72553\n",
      "           1       0.96      0.99      0.98     69605\n",
      "\n",
      "    accuracy                           0.98    142158\n",
      "   macro avg       0.98      0.98      0.98    142158\n",
      "weighted avg       0.98      0.98      0.98    142158\n",
      "\n"
     ]
    }
   ],
   "source": [
    "print(classification_report(y_pred2,y_test))"
   ]
  },
  {
   "cell_type": "code",
   "execution_count": 54,
   "id": "9187e372",
   "metadata": {},
   "outputs": [],
   "source": [
    "Accuracy2      = accuracy_score(y_test, y_pred2)\n",
    "Precision2     = precision_score(y_test, y_pred2)\n",
    "Recall2        = recall_score(y_test, y_pred2)\n",
    "F1_score2      = f1_score(y_test, y_pred2)\n",
    "roc_auc_score2 = roc_auc_score(y_test,y_pred2)"
   ]
  },
  {
   "cell_type": "code",
   "execution_count": 55,
   "id": "962874e5",
   "metadata": {},
   "outputs": [],
   "source": [
    "classification_matrix2 = {\"Accuracy\":Accuracy2, \"Precision\":Precision2, \"Recall\":Recall2, \"F1_score\":F1_score2,\"ROC_AUC\":roc_auc_score2}"
   ]
  },
  {
   "cell_type": "code",
   "execution_count": 56,
   "id": "69e1a7f5",
   "metadata": {},
   "outputs": [
    {
     "data": {
      "text/html": [
       "<div>\n",
       "<style scoped>\n",
       "    .dataframe tbody tr th:only-of-type {\n",
       "        vertical-align: middle;\n",
       "    }\n",
       "\n",
       "    .dataframe tbody tr th {\n",
       "        vertical-align: top;\n",
       "    }\n",
       "\n",
       "    .dataframe thead th {\n",
       "        text-align: right;\n",
       "    }\n",
       "</style>\n",
       "<table border=\"1\" class=\"dataframe\">\n",
       "  <thead>\n",
       "    <tr style=\"text-align: right;\">\n",
       "      <th></th>\n",
       "      <th>0</th>\n",
       "    </tr>\n",
       "  </thead>\n",
       "  <tbody>\n",
       "    <tr>\n",
       "      <th>Accuracy</th>\n",
       "      <td>0.975949</td>\n",
       "    </tr>\n",
       "    <tr>\n",
       "      <th>Precision</th>\n",
       "      <td>0.987630</td>\n",
       "    </tr>\n",
       "    <tr>\n",
       "      <th>Recall</th>\n",
       "      <td>0.964124</td>\n",
       "    </tr>\n",
       "    <tr>\n",
       "      <th>F1_score</th>\n",
       "      <td>0.975736</td>\n",
       "    </tr>\n",
       "    <tr>\n",
       "      <th>ROC_AUC</th>\n",
       "      <td>0.975987</td>\n",
       "    </tr>\n",
       "  </tbody>\n",
       "</table>\n",
       "</div>"
      ],
      "text/plain": [
       "                  0\n",
       "Accuracy   0.975949\n",
       "Precision  0.987630\n",
       "Recall     0.964124\n",
       "F1_score   0.975736\n",
       "ROC_AUC    0.975987"
      ]
     },
     "execution_count": 56,
     "metadata": {},
     "output_type": "execute_result"
    }
   ],
   "source": [
    "report_df2 = pd.DataFrame([classification_matrix2])\n",
    "report_df2.transpose()"
   ]
  },
  {
   "cell_type": "code",
   "execution_count": 57,
   "id": "d65a7e31",
   "metadata": {},
   "outputs": [],
   "source": [
    "fpr1, tpr1, thresh1 = roc_curve(y_test, y_pred2, pos_label=1)\n",
    "\n",
    "# roc curve for tpr = fpr \n",
    "random_probs = [0 for i in range(len(y_test))]\n",
    "q_fpr, q_tpr, _ = roc_curve(y_test, random_probs, pos_label=1)"
   ]
  },
  {
   "cell_type": "code",
   "execution_count": 58,
   "id": "adfd22e8",
   "metadata": {},
   "outputs": [
    {
     "data": {
      "image/png": "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\n",
      "text/plain": [
       "<Figure size 432x288 with 1 Axes>"
      ]
     },
     "metadata": {},
     "output_type": "display_data"
    }
   ],
   "source": [
    "plt.plot(fpr1, tpr1, linestyle='-',color='green', label='Decision tree')\n",
    "plt.plot(q_fpr, q_tpr, linestyle='--', color='blue')\n",
    "# title\n",
    "plt.title('ROC curve')\n",
    "# x label\n",
    "plt.xlabel('False Positive Rate')\n",
    "# y label\n",
    "plt.ylabel('True Positive rate')\n",
    "\n",
    "plt.legend(loc='best')\n",
    "plt.savefig('ROC',dpi=300)\n",
    "plt.show();"
   ]
  },
  {
   "cell_type": "code",
   "execution_count": 102,
   "id": "0f6fe25f",
   "metadata": {},
   "outputs": [],
   "source": [
    "scores2 = cross_val_score(model2, x, y, cv=5)"
   ]
  },
  {
   "cell_type": "code",
   "execution_count": 103,
   "id": "f0b62f1d",
   "metadata": {},
   "outputs": [
    {
     "data": {
      "text/plain": [
       "array([0.50439653, 0.94493783, 0.99602554, 0.99791604, 0.58283946])"
      ]
     },
     "execution_count": 103,
     "metadata": {},
     "output_type": "execute_result"
    }
   ],
   "source": [
    "scores2"
   ]
  },
  {
   "cell_type": "code",
   "execution_count": null,
   "id": "0a3d115d",
   "metadata": {},
   "outputs": [],
   "source": []
  },
  {
   "cell_type": "markdown",
   "id": "5726bd64",
   "metadata": {},
   "source": [
    "### RandomizedSearchCV"
   ]
  },
  {
   "cell_type": "code",
   "execution_count": 59,
   "id": "e43b263a",
   "metadata": {},
   "outputs": [],
   "source": [
    "from sklearn.model_selection import RandomizedSearchCV\n",
    "from scipy.stats import randint"
   ]
  },
  {
   "cell_type": "code",
   "execution_count": 60,
   "id": "883460e2",
   "metadata": {},
   "outputs": [],
   "source": [
    "param ={\n",
    "    'criterion' : ['gini','entropy'],\n",
    "    'max_depth' : randint(2,8),\n",
    "    'max_features':randint(2,8)\n",
    "}"
   ]
  },
  {
   "cell_type": "code",
   "execution_count": 61,
   "id": "d6982b84",
   "metadata": {},
   "outputs": [],
   "source": [
    "randomsearch = RandomizedSearchCV(estimator=model2,param_distributions=param,cv=10)"
   ]
  },
  {
   "cell_type": "code",
   "execution_count": 62,
   "id": "e3289718",
   "metadata": {},
   "outputs": [
    {
     "data": {
      "text/plain": [
       "RandomizedSearchCV(cv=10, estimator=DecisionTreeClassifier(),\n",
       "                   param_distributions={'criterion': ['gini', 'entropy'],\n",
       "                                        'max_depth': <scipy.stats._distn_infrastructure.rv_frozen object at 0x00000276B000A8E0>,\n",
       "                                        'max_features': <scipy.stats._distn_infrastructure.rv_frozen object at 0x00000276B0ABC460>})"
      ]
     },
     "execution_count": 62,
     "metadata": {},
     "output_type": "execute_result"
    }
   ],
   "source": [
    "randomsearch.fit(X_train,y_train)"
   ]
  },
  {
   "cell_type": "code",
   "execution_count": 63,
   "id": "5f7af8fd",
   "metadata": {},
   "outputs": [
    {
     "data": {
      "text/plain": [
       "DecisionTreeClassifier(criterion='entropy', max_depth=7, max_features=7)"
      ]
     },
     "execution_count": 63,
     "metadata": {},
     "output_type": "execute_result"
    }
   ],
   "source": [
    "randomsearch.best_estimator_"
   ]
  },
  {
   "cell_type": "code",
   "execution_count": 64,
   "id": "f4042c30",
   "metadata": {},
   "outputs": [],
   "source": [
    "y_predrand = randomsearch.predict(X_test)"
   ]
  },
  {
   "cell_type": "code",
   "execution_count": 65,
   "id": "34147c14",
   "metadata": {},
   "outputs": [],
   "source": [
    "cmrand = confusion_matrix(y_test,y_predrand)"
   ]
  },
  {
   "cell_type": "code",
   "execution_count": 66,
   "id": "0950e41e",
   "metadata": {},
   "outputs": [
    {
     "data": {
      "text/plain": [
       "array([[69803,  1053],\n",
       "       [ 3095, 68207]], dtype=int64)"
      ]
     },
     "execution_count": 66,
     "metadata": {},
     "output_type": "execute_result"
    }
   ],
   "source": [
    "cmrand"
   ]
  },
  {
   "cell_type": "code",
   "execution_count": 67,
   "id": "4a3e4a5b",
   "metadata": {},
   "outputs": [
    {
     "data": {
      "text/plain": [
       "<sklearn.metrics._plot.confusion_matrix.ConfusionMatrixDisplay at 0x276b0918070>"
      ]
     },
     "execution_count": 67,
     "metadata": {},
     "output_type": "execute_result"
    },
    {
     "data": {
      "image/png": "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\n",
      "text/plain": [
       "<Figure size 432x288 with 2 Axes>"
      ]
     },
     "metadata": {},
     "output_type": "display_data"
    }
   ],
   "source": [
    "plot_confusion_matrix(randomsearch,X_test, y_test)"
   ]
  },
  {
   "cell_type": "code",
   "execution_count": 68,
   "id": "6da57f85",
   "metadata": {},
   "outputs": [
    {
     "name": "stdout",
     "output_type": "stream",
     "text": [
      "              precision    recall  f1-score   support\n",
      "\n",
      "           0       0.99      0.96      0.97     72898\n",
      "           1       0.96      0.98      0.97     69260\n",
      "\n",
      "    accuracy                           0.97    142158\n",
      "   macro avg       0.97      0.97      0.97    142158\n",
      "weighted avg       0.97      0.97      0.97    142158\n",
      "\n"
     ]
    }
   ],
   "source": [
    "print(classification_report(y_predrand,y_test))"
   ]
  },
  {
   "cell_type": "code",
   "execution_count": null,
   "id": "fdf9f3b9",
   "metadata": {},
   "outputs": [
    {
     "name": "stderr",
     "output_type": "stream",
     "text": [
      "Exception in callback BaseSelectorEventLoop._read_from_self()\n",
      "handle: <Handle BaseSelectorEventLoop._read_from_self()>\n",
      "Traceback (most recent call last):\n",
      "  File \"C:\\anaconda3\\lib\\asyncio\\events.py\", line 81, in _run\n",
      "    self._context.run(self._callback, *self._args)\n",
      "  File \"C:\\anaconda3\\lib\\asyncio\\selector_events.py\", line 120, in _read_from_self\n",
      "    data = self._ssock.recv(4096)\n",
      "ConnectionResetError: [WinError 10054] An existing connection was forcibly closed by the remote host\n",
      "Exception in callback BaseSelectorEventLoop._read_from_self()\n",
      "handle: <Handle BaseSelectorEventLoop._read_from_self()>\n",
      "Traceback (most recent call last):\n",
      "  File \"C:\\anaconda3\\lib\\asyncio\\events.py\", line 81, in _run\n",
      "    self._context.run(self._callback, *self._args)\n",
      "  File \"C:\\anaconda3\\lib\\asyncio\\selector_events.py\", line 120, in _read_from_self\n",
      "    data = self._ssock.recv(4096)\n",
      "ConnectionResetError: [WinError 10054] An existing connection was forcibly closed by the remote host\n",
      "Exception in callback BaseSelectorEventLoop._read_from_self()\n",
      "handle: <Handle BaseSelectorEventLoop._read_from_self()>\n",
      "Traceback (most recent call last):\n",
      "  File \"C:\\anaconda3\\lib\\asyncio\\events.py\", line 81, in _run\n",
      "    self._context.run(self._callback, *self._args)\n",
      "  File \"C:\\anaconda3\\lib\\asyncio\\selector_events.py\", line 120, in _read_from_self\n",
      "    data = self._ssock.recv(4096)\n",
      "ConnectionResetError: [WinError 10054] An existing connection was forcibly closed by the remote host\n",
      "Exception in callback BaseSelectorEventLoop._read_from_self()\n",
      "handle: <Handle BaseSelectorEventLoop._read_from_self()>\n",
      "Traceback (most recent call last):\n",
      "  File \"C:\\anaconda3\\lib\\asyncio\\events.py\", line 81, in _run\n",
      "    self._context.run(self._callback, *self._args)\n",
      "  File \"C:\\anaconda3\\lib\\asyncio\\selector_events.py\", line 120, in _read_from_self\n",
      "    data = self._ssock.recv(4096)\n",
      "ConnectionResetError: [WinError 10054] An existing connection was forcibly closed by the remote host\n",
      "Exception in callback BaseSelectorEventLoop._read_from_self()\n",
      "handle: <Handle BaseSelectorEventLoop._read_from_self()>\n",
      "Traceback (most recent call last):\n",
      "  File \"C:\\anaconda3\\lib\\asyncio\\events.py\", line 81, in _run\n",
      "    self._context.run(self._callback, *self._args)\n",
      "  File \"C:\\anaconda3\\lib\\asyncio\\selector_events.py\", line 120, in _read_from_self\n",
      "    data = self._ssock.recv(4096)\n",
      "ConnectionResetError: [WinError 10054] An existing connection was forcibly closed by the remote host\n",
      "Exception in callback BaseSelectorEventLoop._read_from_self()\n",
      "handle: <Handle BaseSelectorEventLoop._read_from_self()>\n",
      "Traceback (most recent call last):\n",
      "  File \"C:\\anaconda3\\lib\\asyncio\\events.py\", line 81, in _run\n",
      "    self._context.run(self._callback, *self._args)\n",
      "  File \"C:\\anaconda3\\lib\\asyncio\\selector_events.py\", line 120, in _read_from_self\n",
      "    data = self._ssock.recv(4096)\n",
      "ConnectionResetError: [WinError 10054] An existing connection was forcibly closed by the remote host\n",
      "Exception in callback BaseSelectorEventLoop._read_from_self()\n",
      "handle: <Handle BaseSelectorEventLoop._read_from_self()>\n",
      "Traceback (most recent call last):\n",
      "  File \"C:\\anaconda3\\lib\\asyncio\\events.py\", line 81, in _run\n",
      "    self._context.run(self._callback, *self._args)\n",
      "  File \"C:\\anaconda3\\lib\\asyncio\\selector_events.py\", line 120, in _read_from_self\n",
      "    data = self._ssock.recv(4096)\n",
      "ConnectionResetError: [WinError 10054] An existing connection was forcibly closed by the remote host\n",
      "Exception in callback BaseSelectorEventLoop._read_from_self()\n",
      "handle: <Handle BaseSelectorEventLoop._read_from_self()>\n",
      "Traceback (most recent call last):\n",
      "  File \"C:\\anaconda3\\lib\\asyncio\\events.py\", line 81, in _run\n",
      "    self._context.run(self._callback, *self._args)\n",
      "  File \"C:\\anaconda3\\lib\\asyncio\\selector_events.py\", line 120, in _read_from_self\n",
      "    data = self._ssock.recv(4096)\n",
      "ConnectionResetError: [WinError 10054] An existing connection was forcibly closed by the remote host\n",
      "Exception in callback BaseSelectorEventLoop._read_from_self()\n",
      "handle: <Handle BaseSelectorEventLoop._read_from_self()>\n",
      "Traceback (most recent call last):\n",
      "  File \"C:\\anaconda3\\lib\\asyncio\\events.py\", line 81, in _run\n",
      "    self._context.run(self._callback, *self._args)\n",
      "  File \"C:\\anaconda3\\lib\\asyncio\\selector_events.py\", line 120, in _read_from_self\n",
      "    data = self._ssock.recv(4096)\n",
      "ConnectionResetError: [WinError 10054] An existing connection was forcibly closed by the remote host\n",
      "Exception in callback BaseSelectorEventLoop._read_from_self()\n",
      "handle: <Handle BaseSelectorEventLoop._read_from_self()>\n",
      "Traceback (most recent call last):\n",
      "  File \"C:\\anaconda3\\lib\\asyncio\\events.py\", line 81, in _run\n",
      "    self._context.run(self._callback, *self._args)\n",
      "  File \"C:\\anaconda3\\lib\\asyncio\\selector_events.py\", line 120, in _read_from_self\n",
      "    data = self._ssock.recv(4096)\n",
      "ConnectionResetError: [WinError 10054] An existing connection was forcibly closed by the remote host\n",
      "Exception in callback BaseSelectorEventLoop._read_from_self()\n",
      "handle: <Handle BaseSelectorEventLoop._read_from_self()>\n",
      "Traceback (most recent call last):\n",
      "  File \"C:\\anaconda3\\lib\\asyncio\\events.py\", line 81, in _run\n",
      "    self._context.run(self._callback, *self._args)\n",
      "  File \"C:\\anaconda3\\lib\\asyncio\\selector_events.py\", line 120, in _read_from_self\n",
      "    data = self._ssock.recv(4096)\n",
      "ConnectionResetError: [WinError 10054] An existing connection was forcibly closed by the remote host\n",
      "Exception in callback BaseSelectorEventLoop._read_from_self()\n",
      "handle: <Handle BaseSelectorEventLoop._read_from_self()>\n",
      "Traceback (most recent call last):\n",
      "  File \"C:\\anaconda3\\lib\\asyncio\\events.py\", line 81, in _run\n",
      "    self._context.run(self._callback, *self._args)\n",
      "  File \"C:\\anaconda3\\lib\\asyncio\\selector_events.py\", line 120, in _read_from_self\n",
      "    data = self._ssock.recv(4096)\n",
      "ConnectionResetError: [WinError 10054] An existing connection was forcibly closed by the remote host\n",
      "Exception in callback BaseSelectorEventLoop._read_from_self()\n",
      "handle: <Handle BaseSelectorEventLoop._read_from_self()>\n",
      "Traceback (most recent call last):\n",
      "  File \"C:\\anaconda3\\lib\\asyncio\\events.py\", line 81, in _run\n",
      "    self._context.run(self._callback, *self._args)\n",
      "  File \"C:\\anaconda3\\lib\\asyncio\\selector_events.py\", line 120, in _read_from_self\n",
      "    data = self._ssock.recv(4096)\n",
      "ConnectionResetError: [WinError 10054] An existing connection was forcibly closed by the remote host\n",
      "Exception in callback BaseSelectorEventLoop._read_from_self()\n",
      "handle: <Handle BaseSelectorEventLoop._read_from_self()>\n",
      "Traceback (most recent call last):\n",
      "  File \"C:\\anaconda3\\lib\\asyncio\\events.py\", line 81, in _run\n",
      "    self._context.run(self._callback, *self._args)\n",
      "  File \"C:\\anaconda3\\lib\\asyncio\\selector_events.py\", line 120, in _read_from_self\n",
      "    data = self._ssock.recv(4096)\n",
      "ConnectionResetError: [WinError 10054] An existing connection was forcibly closed by the remote host\n",
      "Exception in callback BaseSelectorEventLoop._read_from_self()\n",
      "handle: <Handle BaseSelectorEventLoop._read_from_self()>\n",
      "Traceback (most recent call last):\n",
      "  File \"C:\\anaconda3\\lib\\asyncio\\events.py\", line 81, in _run\n",
      "    self._context.run(self._callback, *self._args)\n",
      "  File \"C:\\anaconda3\\lib\\asyncio\\selector_events.py\", line 120, in _read_from_self\n",
      "    data = self._ssock.recv(4096)\n",
      "ConnectionResetError: [WinError 10054] An existing connection was forcibly closed by the remote host\n",
      "Exception in callback BaseSelectorEventLoop._read_from_self()\n",
      "handle: <Handle BaseSelectorEventLoop._read_from_self()>\n",
      "Traceback (most recent call last):\n",
      "  File \"C:\\anaconda3\\lib\\asyncio\\events.py\", line 81, in _run\n",
      "    self._context.run(self._callback, *self._args)\n",
      "  File \"C:\\anaconda3\\lib\\asyncio\\selector_events.py\", line 120, in _read_from_self\n",
      "    data = self._ssock.recv(4096)\n",
      "ConnectionResetError: [WinError 10054] An existing connection was forcibly closed by the remote host\n",
      "Exception in callback BaseSelectorEventLoop._read_from_self()\n",
      "handle: <Handle BaseSelectorEventLoop._read_from_self()>\n",
      "Traceback (most recent call last):\n",
      "  File \"C:\\anaconda3\\lib\\asyncio\\events.py\", line 81, in _run\n",
      "    self._context.run(self._callback, *self._args)\n",
      "  File \"C:\\anaconda3\\lib\\asyncio\\selector_events.py\", line 120, in _read_from_self\n",
      "    data = self._ssock.recv(4096)\n",
      "ConnectionResetError: [WinError 10054] An existing connection was forcibly closed by the remote host\n"
     ]
    },
    {
     "name": "stderr",
     "output_type": "stream",
     "text": [
      "Exception in callback BaseSelectorEventLoop._read_from_self()\n",
      "handle: <Handle BaseSelectorEventLoop._read_from_self()>\n",
      "Traceback (most recent call last):\n",
      "  File \"C:\\anaconda3\\lib\\asyncio\\events.py\", line 81, in _run\n",
      "    self._context.run(self._callback, *self._args)\n",
      "  File \"C:\\anaconda3\\lib\\asyncio\\selector_events.py\", line 120, in _read_from_self\n",
      "    data = self._ssock.recv(4096)\n",
      "ConnectionResetError: [WinError 10054] An existing connection was forcibly closed by the remote host\n",
      "Exception in callback BaseSelectorEventLoop._read_from_self()\n",
      "handle: <Handle BaseSelectorEventLoop._read_from_self()>\n",
      "Traceback (most recent call last):\n",
      "  File \"C:\\anaconda3\\lib\\asyncio\\events.py\", line 81, in _run\n",
      "    self._context.run(self._callback, *self._args)\n",
      "  File \"C:\\anaconda3\\lib\\asyncio\\selector_events.py\", line 120, in _read_from_self\n",
      "    data = self._ssock.recv(4096)\n",
      "ConnectionResetError: [WinError 10054] An existing connection was forcibly closed by the remote host\n",
      "Exception in callback BaseSelectorEventLoop._read_from_self()\n",
      "handle: <Handle BaseSelectorEventLoop._read_from_self()>\n",
      "Traceback (most recent call last):\n",
      "  File \"C:\\anaconda3\\lib\\asyncio\\events.py\", line 81, in _run\n",
      "    self._context.run(self._callback, *self._args)\n",
      "  File \"C:\\anaconda3\\lib\\asyncio\\selector_events.py\", line 120, in _read_from_self\n",
      "    data = self._ssock.recv(4096)\n",
      "ConnectionResetError: [WinError 10054] An existing connection was forcibly closed by the remote host\n",
      "Exception in callback BaseSelectorEventLoop._read_from_self()\n",
      "handle: <Handle BaseSelectorEventLoop._read_from_self()>\n",
      "Traceback (most recent call last):\n",
      "  File \"C:\\anaconda3\\lib\\asyncio\\events.py\", line 81, in _run\n",
      "    self._context.run(self._callback, *self._args)\n",
      "  File \"C:\\anaconda3\\lib\\asyncio\\selector_events.py\", line 120, in _read_from_self\n",
      "    data = self._ssock.recv(4096)\n",
      "ConnectionResetError: [WinError 10054] An existing connection was forcibly closed by the remote host\n",
      "Exception in callback BaseSelectorEventLoop._read_from_self()\n",
      "handle: <Handle BaseSelectorEventLoop._read_from_self()>\n",
      "Traceback (most recent call last):\n",
      "  File \"C:\\anaconda3\\lib\\asyncio\\events.py\", line 81, in _run\n",
      "    self._context.run(self._callback, *self._args)\n",
      "  File \"C:\\anaconda3\\lib\\asyncio\\selector_events.py\", line 120, in _read_from_self\n",
      "    data = self._ssock.recv(4096)\n",
      "ConnectionResetError: [WinError 10054] An existing connection was forcibly closed by the remote host\n",
      "Exception in callback BaseSelectorEventLoop._read_from_self()\n",
      "handle: <Handle BaseSelectorEventLoop._read_from_self()>\n",
      "Traceback (most recent call last):\n",
      "  File \"C:\\anaconda3\\lib\\asyncio\\events.py\", line 81, in _run\n",
      "    self._context.run(self._callback, *self._args)\n",
      "  File \"C:\\anaconda3\\lib\\asyncio\\selector_events.py\", line 120, in _read_from_self\n",
      "    data = self._ssock.recv(4096)\n",
      "ConnectionResetError: [WinError 10054] An existing connection was forcibly closed by the remote host\n",
      "Exception in callback BaseSelectorEventLoop._read_from_self()\n",
      "handle: <Handle BaseSelectorEventLoop._read_from_self()>\n",
      "Traceback (most recent call last):\n",
      "  File \"C:\\anaconda3\\lib\\asyncio\\events.py\", line 81, in _run\n",
      "    self._context.run(self._callback, *self._args)\n",
      "  File \"C:\\anaconda3\\lib\\asyncio\\selector_events.py\", line 120, in _read_from_self\n",
      "    data = self._ssock.recv(4096)\n",
      "ConnectionResetError: [WinError 10054] An existing connection was forcibly closed by the remote host\n",
      "Exception in callback BaseSelectorEventLoop._read_from_self()\n",
      "handle: <Handle BaseSelectorEventLoop._read_from_self()>\n",
      "Traceback (most recent call last):\n",
      "  File \"C:\\anaconda3\\lib\\asyncio\\events.py\", line 81, in _run\n",
      "    self._context.run(self._callback, *self._args)\n",
      "  File \"C:\\anaconda3\\lib\\asyncio\\selector_events.py\", line 120, in _read_from_self\n",
      "    data = self._ssock.recv(4096)\n",
      "ConnectionResetError: [WinError 10054] An existing connection was forcibly closed by the remote host\n",
      "Exception in callback BaseSelectorEventLoop._read_from_self()\n",
      "handle: <Handle BaseSelectorEventLoop._read_from_self()>\n",
      "Traceback (most recent call last):\n",
      "  File \"C:\\anaconda3\\lib\\asyncio\\events.py\", line 81, in _run\n",
      "    self._context.run(self._callback, *self._args)\n",
      "  File \"C:\\anaconda3\\lib\\asyncio\\selector_events.py\", line 120, in _read_from_self\n",
      "    data = self._ssock.recv(4096)\n",
      "ConnectionResetError: [WinError 10054] An existing connection was forcibly closed by the remote host\n",
      "Exception in callback BaseSelectorEventLoop._read_from_self()\n",
      "handle: <Handle BaseSelectorEventLoop._read_from_self()>\n",
      "Traceback (most recent call last):\n",
      "  File \"C:\\anaconda3\\lib\\asyncio\\events.py\", line 81, in _run\n",
      "    self._context.run(self._callback, *self._args)\n",
      "  File \"C:\\anaconda3\\lib\\asyncio\\selector_events.py\", line 120, in _read_from_self\n",
      "    data = self._ssock.recv(4096)\n",
      "ConnectionResetError: [WinError 10054] An existing connection was forcibly closed by the remote host\n",
      "Exception in callback BaseSelectorEventLoop._read_from_self()\n",
      "handle: <Handle BaseSelectorEventLoop._read_from_self()>\n",
      "Traceback (most recent call last):\n",
      "  File \"C:\\anaconda3\\lib\\asyncio\\events.py\", line 81, in _run\n",
      "    self._context.run(self._callback, *self._args)\n",
      "  File \"C:\\anaconda3\\lib\\asyncio\\selector_events.py\", line 120, in _read_from_self\n",
      "    data = self._ssock.recv(4096)\n",
      "ConnectionResetError: [WinError 10054] An existing connection was forcibly closed by the remote host\n",
      "Exception in callback BaseSelectorEventLoop._read_from_self()\n",
      "handle: <Handle BaseSelectorEventLoop._read_from_self()>\n",
      "Traceback (most recent call last):\n",
      "  File \"C:\\anaconda3\\lib\\asyncio\\events.py\", line 81, in _run\n",
      "    self._context.run(self._callback, *self._args)\n",
      "  File \"C:\\anaconda3\\lib\\asyncio\\selector_events.py\", line 120, in _read_from_self\n",
      "    data = self._ssock.recv(4096)\n",
      "ConnectionResetError: [WinError 10054] An existing connection was forcibly closed by the remote host\n",
      "Exception in callback BaseSelectorEventLoop._read_from_self()\n",
      "handle: <Handle BaseSelectorEventLoop._read_from_self()>\n",
      "Traceback (most recent call last):\n",
      "  File \"C:\\anaconda3\\lib\\asyncio\\events.py\", line 81, in _run\n",
      "    self._context.run(self._callback, *self._args)\n",
      "  File \"C:\\anaconda3\\lib\\asyncio\\selector_events.py\", line 120, in _read_from_self\n",
      "    data = self._ssock.recv(4096)\n",
      "ConnectionResetError: [WinError 10054] An existing connection was forcibly closed by the remote host\n",
      "Exception in callback BaseSelectorEventLoop._read_from_self()\n",
      "handle: <Handle BaseSelectorEventLoop._read_from_self()>\n",
      "Traceback (most recent call last):\n",
      "  File \"C:\\anaconda3\\lib\\asyncio\\events.py\", line 81, in _run\n",
      "    self._context.run(self._callback, *self._args)\n",
      "  File \"C:\\anaconda3\\lib\\asyncio\\selector_events.py\", line 120, in _read_from_self\n",
      "    data = self._ssock.recv(4096)\n",
      "ConnectionResetError: [WinError 10054] An existing connection was forcibly closed by the remote host\n",
      "Exception in callback BaseSelectorEventLoop._read_from_self()\n",
      "handle: <Handle BaseSelectorEventLoop._read_from_self()>\n",
      "Traceback (most recent call last):\n",
      "  File \"C:\\anaconda3\\lib\\asyncio\\events.py\", line 81, in _run\n",
      "    self._context.run(self._callback, *self._args)\n",
      "  File \"C:\\anaconda3\\lib\\asyncio\\selector_events.py\", line 120, in _read_from_self\n",
      "    data = self._ssock.recv(4096)\n",
      "ConnectionResetError: [WinError 10054] An existing connection was forcibly closed by the remote host\n",
      "Exception in callback BaseSelectorEventLoop._read_from_self()\n",
      "handle: <Handle BaseSelectorEventLoop._read_from_self()>\n",
      "Traceback (most recent call last):\n",
      "  File \"C:\\anaconda3\\lib\\asyncio\\events.py\", line 81, in _run\n",
      "    self._context.run(self._callback, *self._args)\n",
      "  File \"C:\\anaconda3\\lib\\asyncio\\selector_events.py\", line 120, in _read_from_self\n",
      "    data = self._ssock.recv(4096)\n",
      "ConnectionResetError: [WinError 10054] An existing connection was forcibly closed by the remote host\n",
      "Exception in callback BaseSelectorEventLoop._read_from_self()\n",
      "handle: <Handle BaseSelectorEventLoop._read_from_self()>\n",
      "Traceback (most recent call last):\n",
      "  File \"C:\\anaconda3\\lib\\asyncio\\events.py\", line 81, in _run\n",
      "    self._context.run(self._callback, *self._args)\n",
      "  File \"C:\\anaconda3\\lib\\asyncio\\selector_events.py\", line 120, in _read_from_self\n",
      "    data = self._ssock.recv(4096)\n",
      "ConnectionResetError: [WinError 10054] An existing connection was forcibly closed by the remote host\n"
     ]
    },
    {
     "name": "stderr",
     "output_type": "stream",
     "text": [
      "Exception in callback BaseSelectorEventLoop._read_from_self()\n",
      "handle: <Handle BaseSelectorEventLoop._read_from_self()>\n",
      "Traceback (most recent call last):\n",
      "  File \"C:\\anaconda3\\lib\\asyncio\\events.py\", line 81, in _run\n",
      "    self._context.run(self._callback, *self._args)\n",
      "  File \"C:\\anaconda3\\lib\\asyncio\\selector_events.py\", line 120, in _read_from_self\n",
      "    data = self._ssock.recv(4096)\n",
      "ConnectionResetError: [WinError 10054] An existing connection was forcibly closed by the remote host\n",
      "Exception in callback BaseSelectorEventLoop._read_from_self()\n",
      "handle: <Handle BaseSelectorEventLoop._read_from_self()>\n",
      "Traceback (most recent call last):\n",
      "  File \"C:\\anaconda3\\lib\\asyncio\\events.py\", line 81, in _run\n",
      "    self._context.run(self._callback, *self._args)\n",
      "  File \"C:\\anaconda3\\lib\\asyncio\\selector_events.py\", line 120, in _read_from_self\n",
      "    data = self._ssock.recv(4096)\n",
      "ConnectionResetError: [WinError 10054] An existing connection was forcibly closed by the remote host\n",
      "Exception in callback BaseSelectorEventLoop._read_from_self()\n",
      "handle: <Handle BaseSelectorEventLoop._read_from_self()>\n",
      "Traceback (most recent call last):\n",
      "  File \"C:\\anaconda3\\lib\\asyncio\\events.py\", line 81, in _run\n",
      "    self._context.run(self._callback, *self._args)\n",
      "  File \"C:\\anaconda3\\lib\\asyncio\\selector_events.py\", line 120, in _read_from_self\n",
      "    data = self._ssock.recv(4096)\n",
      "ConnectionResetError: [WinError 10054] An existing connection was forcibly closed by the remote host\n",
      "Exception in callback BaseSelectorEventLoop._read_from_self()\n",
      "handle: <Handle BaseSelectorEventLoop._read_from_self()>\n",
      "Traceback (most recent call last):\n",
      "  File \"C:\\anaconda3\\lib\\asyncio\\events.py\", line 81, in _run\n",
      "    self._context.run(self._callback, *self._args)\n",
      "  File \"C:\\anaconda3\\lib\\asyncio\\selector_events.py\", line 120, in _read_from_self\n",
      "    data = self._ssock.recv(4096)\n",
      "ConnectionResetError: [WinError 10054] An existing connection was forcibly closed by the remote host\n",
      "Exception in callback BaseSelectorEventLoop._read_from_self()\n",
      "handle: <Handle BaseSelectorEventLoop._read_from_self()>\n",
      "Traceback (most recent call last):\n",
      "  File \"C:\\anaconda3\\lib\\asyncio\\events.py\", line 81, in _run\n",
      "    self._context.run(self._callback, *self._args)\n",
      "  File \"C:\\anaconda3\\lib\\asyncio\\selector_events.py\", line 120, in _read_from_self\n",
      "    data = self._ssock.recv(4096)\n",
      "ConnectionResetError: [WinError 10054] An existing connection was forcibly closed by the remote host\n",
      "Exception in callback BaseSelectorEventLoop._read_from_self()\n",
      "handle: <Handle BaseSelectorEventLoop._read_from_self()>\n",
      "Traceback (most recent call last):\n",
      "  File \"C:\\anaconda3\\lib\\asyncio\\events.py\", line 81, in _run\n",
      "    self._context.run(self._callback, *self._args)\n",
      "  File \"C:\\anaconda3\\lib\\asyncio\\selector_events.py\", line 120, in _read_from_self\n",
      "    data = self._ssock.recv(4096)\n",
      "ConnectionResetError: [WinError 10054] An existing connection was forcibly closed by the remote host\n",
      "Exception in callback BaseSelectorEventLoop._read_from_self()\n",
      "handle: <Handle BaseSelectorEventLoop._read_from_self()>\n",
      "Traceback (most recent call last):\n",
      "  File \"C:\\anaconda3\\lib\\asyncio\\events.py\", line 81, in _run\n",
      "    self._context.run(self._callback, *self._args)\n",
      "  File \"C:\\anaconda3\\lib\\asyncio\\selector_events.py\", line 120, in _read_from_self\n",
      "    data = self._ssock.recv(4096)\n",
      "ConnectionResetError: [WinError 10054] An existing connection was forcibly closed by the remote host\n",
      "Exception in callback BaseSelectorEventLoop._read_from_self()\n",
      "handle: <Handle BaseSelectorEventLoop._read_from_self()>\n",
      "Traceback (most recent call last):\n",
      "  File \"C:\\anaconda3\\lib\\asyncio\\events.py\", line 81, in _run\n",
      "    self._context.run(self._callback, *self._args)\n",
      "  File \"C:\\anaconda3\\lib\\asyncio\\selector_events.py\", line 120, in _read_from_self\n",
      "    data = self._ssock.recv(4096)\n",
      "ConnectionResetError: [WinError 10054] An existing connection was forcibly closed by the remote host\n",
      "Exception in callback BaseSelectorEventLoop._read_from_self()\n",
      "handle: <Handle BaseSelectorEventLoop._read_from_self()>\n",
      "Traceback (most recent call last):\n",
      "  File \"C:\\anaconda3\\lib\\asyncio\\events.py\", line 81, in _run\n",
      "    self._context.run(self._callback, *self._args)\n",
      "  File \"C:\\anaconda3\\lib\\asyncio\\selector_events.py\", line 120, in _read_from_self\n",
      "    data = self._ssock.recv(4096)\n",
      "ConnectionResetError: [WinError 10054] An existing connection was forcibly closed by the remote host\n",
      "Exception in callback BaseSelectorEventLoop._read_from_self()\n",
      "handle: <Handle BaseSelectorEventLoop._read_from_self()>\n",
      "Traceback (most recent call last):\n",
      "  File \"C:\\anaconda3\\lib\\asyncio\\events.py\", line 81, in _run\n",
      "    self._context.run(self._callback, *self._args)\n",
      "  File \"C:\\anaconda3\\lib\\asyncio\\selector_events.py\", line 120, in _read_from_self\n",
      "    data = self._ssock.recv(4096)\n",
      "ConnectionResetError: [WinError 10054] An existing connection was forcibly closed by the remote host\n",
      "Exception in callback BaseSelectorEventLoop._read_from_self()\n",
      "handle: <Handle BaseSelectorEventLoop._read_from_self()>\n",
      "Traceback (most recent call last):\n",
      "  File \"C:\\anaconda3\\lib\\asyncio\\events.py\", line 81, in _run\n",
      "    self._context.run(self._callback, *self._args)\n",
      "  File \"C:\\anaconda3\\lib\\asyncio\\selector_events.py\", line 120, in _read_from_self\n",
      "    data = self._ssock.recv(4096)\n",
      "ConnectionResetError: [WinError 10054] An existing connection was forcibly closed by the remote host\n",
      "Exception in callback BaseSelectorEventLoop._read_from_self()\n",
      "handle: <Handle BaseSelectorEventLoop._read_from_self()>\n",
      "Traceback (most recent call last):\n",
      "  File \"C:\\anaconda3\\lib\\asyncio\\events.py\", line 81, in _run\n",
      "    self._context.run(self._callback, *self._args)\n",
      "  File \"C:\\anaconda3\\lib\\asyncio\\selector_events.py\", line 120, in _read_from_self\n",
      "    data = self._ssock.recv(4096)\n",
      "ConnectionResetError: [WinError 10054] An existing connection was forcibly closed by the remote host\n",
      "Exception in callback BaseSelectorEventLoop._read_from_self()\n",
      "handle: <Handle BaseSelectorEventLoop._read_from_self()>\n",
      "Traceback (most recent call last):\n",
      "  File \"C:\\anaconda3\\lib\\asyncio\\events.py\", line 81, in _run\n",
      "    self._context.run(self._callback, *self._args)\n",
      "  File \"C:\\anaconda3\\lib\\asyncio\\selector_events.py\", line 120, in _read_from_self\n",
      "    data = self._ssock.recv(4096)\n",
      "ConnectionResetError: [WinError 10054] An existing connection was forcibly closed by the remote host\n",
      "Exception in callback BaseSelectorEventLoop._read_from_self()\n",
      "handle: <Handle BaseSelectorEventLoop._read_from_self()>\n",
      "Traceback (most recent call last):\n",
      "  File \"C:\\anaconda3\\lib\\asyncio\\events.py\", line 81, in _run\n",
      "    self._context.run(self._callback, *self._args)\n",
      "  File \"C:\\anaconda3\\lib\\asyncio\\selector_events.py\", line 120, in _read_from_self\n",
      "    data = self._ssock.recv(4096)\n",
      "ConnectionResetError: [WinError 10054] An existing connection was forcibly closed by the remote host\n",
      "Exception in callback BaseSelectorEventLoop._read_from_self()\n",
      "handle: <Handle BaseSelectorEventLoop._read_from_self()>\n",
      "Traceback (most recent call last):\n",
      "  File \"C:\\anaconda3\\lib\\asyncio\\events.py\", line 81, in _run\n",
      "    self._context.run(self._callback, *self._args)\n",
      "  File \"C:\\anaconda3\\lib\\asyncio\\selector_events.py\", line 120, in _read_from_self\n",
      "    data = self._ssock.recv(4096)\n",
      "ConnectionResetError: [WinError 10054] An existing connection was forcibly closed by the remote host\n",
      "Exception in callback BaseSelectorEventLoop._read_from_self()\n",
      "handle: <Handle BaseSelectorEventLoop._read_from_self()>\n",
      "Traceback (most recent call last):\n",
      "  File \"C:\\anaconda3\\lib\\asyncio\\events.py\", line 81, in _run\n",
      "    self._context.run(self._callback, *self._args)\n",
      "  File \"C:\\anaconda3\\lib\\asyncio\\selector_events.py\", line 120, in _read_from_self\n",
      "    data = self._ssock.recv(4096)\n",
      "ConnectionResetError: [WinError 10054] An existing connection was forcibly closed by the remote host\n",
      "Exception in callback BaseSelectorEventLoop._read_from_self()\n",
      "handle: <Handle BaseSelectorEventLoop._read_from_self()>\n",
      "Traceback (most recent call last):\n",
      "  File \"C:\\anaconda3\\lib\\asyncio\\events.py\", line 81, in _run\n",
      "    self._context.run(self._callback, *self._args)\n",
      "  File \"C:\\anaconda3\\lib\\asyncio\\selector_events.py\", line 120, in _read_from_self\n",
      "    data = self._ssock.recv(4096)\n",
      "ConnectionResetError: [WinError 10054] An existing connection was forcibly closed by the remote host\n"
     ]
    },
    {
     "name": "stderr",
     "output_type": "stream",
     "text": [
      "Exception in callback BaseSelectorEventLoop._read_from_self()\n",
      "handle: <Handle BaseSelectorEventLoop._read_from_self()>\n",
      "Traceback (most recent call last):\n",
      "  File \"C:\\anaconda3\\lib\\asyncio\\events.py\", line 81, in _run\n",
      "    self._context.run(self._callback, *self._args)\n",
      "  File \"C:\\anaconda3\\lib\\asyncio\\selector_events.py\", line 120, in _read_from_self\n",
      "    data = self._ssock.recv(4096)\n",
      "ConnectionResetError: [WinError 10054] An existing connection was forcibly closed by the remote host\n",
      "Exception in callback BaseSelectorEventLoop._read_from_self()\n",
      "handle: <Handle BaseSelectorEventLoop._read_from_self()>\n",
      "Traceback (most recent call last):\n",
      "  File \"C:\\anaconda3\\lib\\asyncio\\events.py\", line 81, in _run\n",
      "    self._context.run(self._callback, *self._args)\n",
      "  File \"C:\\anaconda3\\lib\\asyncio\\selector_events.py\", line 120, in _read_from_self\n",
      "    data = self._ssock.recv(4096)\n",
      "ConnectionResetError: [WinError 10054] An existing connection was forcibly closed by the remote host\n",
      "Exception in callback BaseSelectorEventLoop._read_from_self()\n",
      "handle: <Handle BaseSelectorEventLoop._read_from_self()>\n",
      "Traceback (most recent call last):\n",
      "  File \"C:\\anaconda3\\lib\\asyncio\\events.py\", line 81, in _run\n",
      "    self._context.run(self._callback, *self._args)\n",
      "  File \"C:\\anaconda3\\lib\\asyncio\\selector_events.py\", line 120, in _read_from_self\n",
      "    data = self._ssock.recv(4096)\n",
      "ConnectionResetError: [WinError 10054] An existing connection was forcibly closed by the remote host\n",
      "Exception in callback BaseSelectorEventLoop._read_from_self()\n",
      "handle: <Handle BaseSelectorEventLoop._read_from_self()>\n",
      "Traceback (most recent call last):\n",
      "  File \"C:\\anaconda3\\lib\\asyncio\\events.py\", line 81, in _run\n",
      "    self._context.run(self._callback, *self._args)\n",
      "  File \"C:\\anaconda3\\lib\\asyncio\\selector_events.py\", line 120, in _read_from_self\n",
      "    data = self._ssock.recv(4096)\n",
      "ConnectionResetError: [WinError 10054] An existing connection was forcibly closed by the remote host\n",
      "Exception in callback BaseSelectorEventLoop._read_from_self()\n",
      "handle: <Handle BaseSelectorEventLoop._read_from_self()>\n",
      "Traceback (most recent call last):\n",
      "  File \"C:\\anaconda3\\lib\\asyncio\\events.py\", line 81, in _run\n",
      "    self._context.run(self._callback, *self._args)\n",
      "  File \"C:\\anaconda3\\lib\\asyncio\\selector_events.py\", line 120, in _read_from_self\n",
      "    data = self._ssock.recv(4096)\n",
      "ConnectionResetError: [WinError 10054] An existing connection was forcibly closed by the remote host\n",
      "Exception in callback BaseSelectorEventLoop._read_from_self()\n",
      "handle: <Handle BaseSelectorEventLoop._read_from_self()>\n",
      "Traceback (most recent call last):\n",
      "  File \"C:\\anaconda3\\lib\\asyncio\\events.py\", line 81, in _run\n",
      "    self._context.run(self._callback, *self._args)\n",
      "  File \"C:\\anaconda3\\lib\\asyncio\\selector_events.py\", line 120, in _read_from_self\n",
      "    data = self._ssock.recv(4096)\n",
      "ConnectionResetError: [WinError 10054] An existing connection was forcibly closed by the remote host\n",
      "Exception in callback BaseSelectorEventLoop._read_from_self()\n",
      "handle: <Handle BaseSelectorEventLoop._read_from_self()>\n",
      "Traceback (most recent call last):\n",
      "  File \"C:\\anaconda3\\lib\\asyncio\\events.py\", line 81, in _run\n",
      "    self._context.run(self._callback, *self._args)\n",
      "  File \"C:\\anaconda3\\lib\\asyncio\\selector_events.py\", line 120, in _read_from_self\n",
      "    data = self._ssock.recv(4096)\n",
      "ConnectionResetError: [WinError 10054] An existing connection was forcibly closed by the remote host\n",
      "Exception in callback BaseSelectorEventLoop._read_from_self()\n",
      "handle: <Handle BaseSelectorEventLoop._read_from_self()>\n",
      "Traceback (most recent call last):\n",
      "  File \"C:\\anaconda3\\lib\\asyncio\\events.py\", line 81, in _run\n",
      "    self._context.run(self._callback, *self._args)\n",
      "  File \"C:\\anaconda3\\lib\\asyncio\\selector_events.py\", line 120, in _read_from_self\n",
      "    data = self._ssock.recv(4096)\n",
      "ConnectionResetError: [WinError 10054] An existing connection was forcibly closed by the remote host\n",
      "Exception in callback BaseSelectorEventLoop._read_from_self()\n",
      "handle: <Handle BaseSelectorEventLoop._read_from_self()>\n",
      "Traceback (most recent call last):\n",
      "  File \"C:\\anaconda3\\lib\\asyncio\\events.py\", line 81, in _run\n",
      "    self._context.run(self._callback, *self._args)\n",
      "  File \"C:\\anaconda3\\lib\\asyncio\\selector_events.py\", line 120, in _read_from_self\n",
      "    data = self._ssock.recv(4096)\n",
      "ConnectionResetError: [WinError 10054] An existing connection was forcibly closed by the remote host\n",
      "Exception in callback BaseSelectorEventLoop._read_from_self()\n",
      "handle: <Handle BaseSelectorEventLoop._read_from_self()>\n",
      "Traceback (most recent call last):\n",
      "  File \"C:\\anaconda3\\lib\\asyncio\\events.py\", line 81, in _run\n",
      "    self._context.run(self._callback, *self._args)\n",
      "  File \"C:\\anaconda3\\lib\\asyncio\\selector_events.py\", line 120, in _read_from_self\n",
      "    data = self._ssock.recv(4096)\n",
      "ConnectionResetError: [WinError 10054] An existing connection was forcibly closed by the remote host\n",
      "Exception in callback BaseSelectorEventLoop._read_from_self()\n",
      "handle: <Handle BaseSelectorEventLoop._read_from_self()>\n",
      "Traceback (most recent call last):\n",
      "  File \"C:\\anaconda3\\lib\\asyncio\\events.py\", line 81, in _run\n",
      "    self._context.run(self._callback, *self._args)\n",
      "  File \"C:\\anaconda3\\lib\\asyncio\\selector_events.py\", line 120, in _read_from_self\n",
      "    data = self._ssock.recv(4096)\n",
      "ConnectionResetError: [WinError 10054] An existing connection was forcibly closed by the remote host\n",
      "Exception in callback BaseSelectorEventLoop._read_from_self()\n",
      "handle: <Handle BaseSelectorEventLoop._read_from_self()>\n",
      "Traceback (most recent call last):\n",
      "  File \"C:\\anaconda3\\lib\\asyncio\\events.py\", line 81, in _run\n",
      "    self._context.run(self._callback, *self._args)\n",
      "  File \"C:\\anaconda3\\lib\\asyncio\\selector_events.py\", line 120, in _read_from_self\n",
      "    data = self._ssock.recv(4096)\n",
      "ConnectionResetError: [WinError 10054] An existing connection was forcibly closed by the remote host\n",
      "Exception in callback BaseSelectorEventLoop._read_from_self()\n",
      "handle: <Handle BaseSelectorEventLoop._read_from_self()>\n",
      "Traceback (most recent call last):\n",
      "  File \"C:\\anaconda3\\lib\\asyncio\\events.py\", line 81, in _run\n",
      "    self._context.run(self._callback, *self._args)\n",
      "  File \"C:\\anaconda3\\lib\\asyncio\\selector_events.py\", line 120, in _read_from_self\n",
      "    data = self._ssock.recv(4096)\n",
      "ConnectionResetError: [WinError 10054] An existing connection was forcibly closed by the remote host\n",
      "Exception in callback BaseSelectorEventLoop._read_from_self()\n",
      "handle: <Handle BaseSelectorEventLoop._read_from_self()>\n",
      "Traceback (most recent call last):\n",
      "  File \"C:\\anaconda3\\lib\\asyncio\\events.py\", line 81, in _run\n",
      "    self._context.run(self._callback, *self._args)\n",
      "  File \"C:\\anaconda3\\lib\\asyncio\\selector_events.py\", line 120, in _read_from_self\n",
      "    data = self._ssock.recv(4096)\n",
      "ConnectionResetError: [WinError 10054] An existing connection was forcibly closed by the remote host\n",
      "Exception in callback BaseSelectorEventLoop._read_from_self()\n",
      "handle: <Handle BaseSelectorEventLoop._read_from_self()>\n",
      "Traceback (most recent call last):\n",
      "  File \"C:\\anaconda3\\lib\\asyncio\\events.py\", line 81, in _run\n",
      "    self._context.run(self._callback, *self._args)\n",
      "  File \"C:\\anaconda3\\lib\\asyncio\\selector_events.py\", line 120, in _read_from_self\n",
      "    data = self._ssock.recv(4096)\n",
      "ConnectionResetError: [WinError 10054] An existing connection was forcibly closed by the remote host\n",
      "Exception in callback BaseSelectorEventLoop._read_from_self()\n",
      "handle: <Handle BaseSelectorEventLoop._read_from_self()>\n",
      "Traceback (most recent call last):\n",
      "  File \"C:\\anaconda3\\lib\\asyncio\\events.py\", line 81, in _run\n",
      "    self._context.run(self._callback, *self._args)\n",
      "  File \"C:\\anaconda3\\lib\\asyncio\\selector_events.py\", line 120, in _read_from_self\n",
      "    data = self._ssock.recv(4096)\n",
      "ConnectionResetError: [WinError 10054] An existing connection was forcibly closed by the remote host\n",
      "Exception in callback BaseSelectorEventLoop._read_from_self()\n",
      "handle: <Handle BaseSelectorEventLoop._read_from_self()>\n",
      "Traceback (most recent call last):\n",
      "  File \"C:\\anaconda3\\lib\\asyncio\\events.py\", line 81, in _run\n",
      "    self._context.run(self._callback, *self._args)\n",
      "  File \"C:\\anaconda3\\lib\\asyncio\\selector_events.py\", line 120, in _read_from_self\n",
      "    data = self._ssock.recv(4096)\n",
      "ConnectionResetError: [WinError 10054] An existing connection was forcibly closed by the remote host\n"
     ]
    },
    {
     "name": "stderr",
     "output_type": "stream",
     "text": [
      "Exception in callback BaseSelectorEventLoop._read_from_self()\n",
      "handle: <Handle BaseSelectorEventLoop._read_from_self()>\n",
      "Traceback (most recent call last):\n",
      "  File \"C:\\anaconda3\\lib\\asyncio\\events.py\", line 81, in _run\n",
      "    self._context.run(self._callback, *self._args)\n",
      "  File \"C:\\anaconda3\\lib\\asyncio\\selector_events.py\", line 120, in _read_from_self\n",
      "    data = self._ssock.recv(4096)\n",
      "ConnectionResetError: [WinError 10054] An existing connection was forcibly closed by the remote host\n",
      "Exception in callback BaseSelectorEventLoop._read_from_self()\n",
      "handle: <Handle BaseSelectorEventLoop._read_from_self()>\n",
      "Traceback (most recent call last):\n",
      "  File \"C:\\anaconda3\\lib\\asyncio\\events.py\", line 81, in _run\n",
      "    self._context.run(self._callback, *self._args)\n",
      "  File \"C:\\anaconda3\\lib\\asyncio\\selector_events.py\", line 120, in _read_from_self\n",
      "    data = self._ssock.recv(4096)\n",
      "ConnectionResetError: [WinError 10054] An existing connection was forcibly closed by the remote host\n",
      "Exception in callback BaseSelectorEventLoop._read_from_self()\n",
      "handle: <Handle BaseSelectorEventLoop._read_from_self()>\n",
      "Traceback (most recent call last):\n",
      "  File \"C:\\anaconda3\\lib\\asyncio\\events.py\", line 81, in _run\n",
      "    self._context.run(self._callback, *self._args)\n",
      "  File \"C:\\anaconda3\\lib\\asyncio\\selector_events.py\", line 120, in _read_from_self\n",
      "    data = self._ssock.recv(4096)\n",
      "ConnectionResetError: [WinError 10054] An existing connection was forcibly closed by the remote host\n",
      "Exception in callback BaseSelectorEventLoop._read_from_self()\n",
      "handle: <Handle BaseSelectorEventLoop._read_from_self()>\n",
      "Traceback (most recent call last):\n",
      "  File \"C:\\anaconda3\\lib\\asyncio\\events.py\", line 81, in _run\n",
      "    self._context.run(self._callback, *self._args)\n",
      "  File \"C:\\anaconda3\\lib\\asyncio\\selector_events.py\", line 120, in _read_from_self\n",
      "    data = self._ssock.recv(4096)\n",
      "ConnectionResetError: [WinError 10054] An existing connection was forcibly closed by the remote host\n",
      "Exception in callback BaseSelectorEventLoop._read_from_self()\n",
      "handle: <Handle BaseSelectorEventLoop._read_from_self()>\n",
      "Traceback (most recent call last):\n",
      "  File \"C:\\anaconda3\\lib\\asyncio\\events.py\", line 81, in _run\n",
      "    self._context.run(self._callback, *self._args)\n",
      "  File \"C:\\anaconda3\\lib\\asyncio\\selector_events.py\", line 120, in _read_from_self\n",
      "    data = self._ssock.recv(4096)\n",
      "ConnectionResetError: [WinError 10054] An existing connection was forcibly closed by the remote host\n",
      "Exception in callback BaseSelectorEventLoop._read_from_self()\n",
      "handle: <Handle BaseSelectorEventLoop._read_from_self()>\n",
      "Traceback (most recent call last):\n",
      "  File \"C:\\anaconda3\\lib\\asyncio\\events.py\", line 81, in _run\n",
      "    self._context.run(self._callback, *self._args)\n",
      "  File \"C:\\anaconda3\\lib\\asyncio\\selector_events.py\", line 120, in _read_from_self\n",
      "    data = self._ssock.recv(4096)\n",
      "ConnectionResetError: [WinError 10054] An existing connection was forcibly closed by the remote host\n",
      "Exception in callback BaseSelectorEventLoop._read_from_self()\n",
      "handle: <Handle BaseSelectorEventLoop._read_from_self()>\n",
      "Traceback (most recent call last):\n",
      "  File \"C:\\anaconda3\\lib\\asyncio\\events.py\", line 81, in _run\n",
      "    self._context.run(self._callback, *self._args)\n",
      "  File \"C:\\anaconda3\\lib\\asyncio\\selector_events.py\", line 120, in _read_from_self\n",
      "    data = self._ssock.recv(4096)\n",
      "ConnectionResetError: [WinError 10054] An existing connection was forcibly closed by the remote host\n",
      "Exception in callback BaseSelectorEventLoop._read_from_self()\n",
      "handle: <Handle BaseSelectorEventLoop._read_from_self()>\n",
      "Traceback (most recent call last):\n",
      "  File \"C:\\anaconda3\\lib\\asyncio\\events.py\", line 81, in _run\n",
      "    self._context.run(self._callback, *self._args)\n",
      "  File \"C:\\anaconda3\\lib\\asyncio\\selector_events.py\", line 120, in _read_from_self\n",
      "    data = self._ssock.recv(4096)\n",
      "ConnectionResetError: [WinError 10054] An existing connection was forcibly closed by the remote host\n",
      "Exception in callback BaseSelectorEventLoop._read_from_self()\n",
      "handle: <Handle BaseSelectorEventLoop._read_from_self()>\n",
      "Traceback (most recent call last):\n",
      "  File \"C:\\anaconda3\\lib\\asyncio\\events.py\", line 81, in _run\n",
      "    self._context.run(self._callback, *self._args)\n",
      "  File \"C:\\anaconda3\\lib\\asyncio\\selector_events.py\", line 120, in _read_from_self\n",
      "    data = self._ssock.recv(4096)\n",
      "ConnectionResetError: [WinError 10054] An existing connection was forcibly closed by the remote host\n",
      "Exception in callback BaseSelectorEventLoop._read_from_self()\n",
      "handle: <Handle BaseSelectorEventLoop._read_from_self()>\n",
      "Traceback (most recent call last):\n",
      "  File \"C:\\anaconda3\\lib\\asyncio\\events.py\", line 81, in _run\n",
      "    self._context.run(self._callback, *self._args)\n",
      "  File \"C:\\anaconda3\\lib\\asyncio\\selector_events.py\", line 120, in _read_from_self\n",
      "    data = self._ssock.recv(4096)\n",
      "ConnectionResetError: [WinError 10054] An existing connection was forcibly closed by the remote host\n",
      "Exception in callback BaseSelectorEventLoop._read_from_self()\n",
      "handle: <Handle BaseSelectorEventLoop._read_from_self()>\n",
      "Traceback (most recent call last):\n",
      "  File \"C:\\anaconda3\\lib\\asyncio\\events.py\", line 81, in _run\n",
      "    self._context.run(self._callback, *self._args)\n",
      "  File \"C:\\anaconda3\\lib\\asyncio\\selector_events.py\", line 120, in _read_from_self\n",
      "    data = self._ssock.recv(4096)\n",
      "ConnectionResetError: [WinError 10054] An existing connection was forcibly closed by the remote host\n",
      "Exception in callback BaseSelectorEventLoop._read_from_self()\n",
      "handle: <Handle BaseSelectorEventLoop._read_from_self()>\n",
      "Traceback (most recent call last):\n",
      "  File \"C:\\anaconda3\\lib\\asyncio\\events.py\", line 81, in _run\n",
      "    self._context.run(self._callback, *self._args)\n",
      "  File \"C:\\anaconda3\\lib\\asyncio\\selector_events.py\", line 120, in _read_from_self\n",
      "    data = self._ssock.recv(4096)\n",
      "ConnectionResetError: [WinError 10054] An existing connection was forcibly closed by the remote host\n",
      "Exception in callback BaseSelectorEventLoop._read_from_self()\n",
      "handle: <Handle BaseSelectorEventLoop._read_from_self()>\n",
      "Traceback (most recent call last):\n",
      "  File \"C:\\anaconda3\\lib\\asyncio\\events.py\", line 81, in _run\n",
      "    self._context.run(self._callback, *self._args)\n",
      "  File \"C:\\anaconda3\\lib\\asyncio\\selector_events.py\", line 120, in _read_from_self\n",
      "    data = self._ssock.recv(4096)\n",
      "ConnectionResetError: [WinError 10054] An existing connection was forcibly closed by the remote host\n",
      "Exception in callback BaseSelectorEventLoop._read_from_self()\n",
      "handle: <Handle BaseSelectorEventLoop._read_from_self()>\n",
      "Traceback (most recent call last):\n",
      "  File \"C:\\anaconda3\\lib\\asyncio\\events.py\", line 81, in _run\n",
      "    self._context.run(self._callback, *self._args)\n",
      "  File \"C:\\anaconda3\\lib\\asyncio\\selector_events.py\", line 120, in _read_from_self\n",
      "    data = self._ssock.recv(4096)\n",
      "ConnectionResetError: [WinError 10054] An existing connection was forcibly closed by the remote host\n",
      "Exception in callback BaseSelectorEventLoop._read_from_self()\n",
      "handle: <Handle BaseSelectorEventLoop._read_from_self()>\n",
      "Traceback (most recent call last):\n",
      "  File \"C:\\anaconda3\\lib\\asyncio\\events.py\", line 81, in _run\n",
      "    self._context.run(self._callback, *self._args)\n",
      "  File \"C:\\anaconda3\\lib\\asyncio\\selector_events.py\", line 120, in _read_from_self\n",
      "    data = self._ssock.recv(4096)\n",
      "ConnectionResetError: [WinError 10054] An existing connection was forcibly closed by the remote host\n",
      "Exception in callback BaseSelectorEventLoop._read_from_self()\n",
      "handle: <Handle BaseSelectorEventLoop._read_from_self()>\n",
      "Traceback (most recent call last):\n",
      "  File \"C:\\anaconda3\\lib\\asyncio\\events.py\", line 81, in _run\n",
      "    self._context.run(self._callback, *self._args)\n",
      "  File \"C:\\anaconda3\\lib\\asyncio\\selector_events.py\", line 120, in _read_from_self\n",
      "    data = self._ssock.recv(4096)\n",
      "ConnectionResetError: [WinError 10054] An existing connection was forcibly closed by the remote host\n",
      "Exception in callback BaseSelectorEventLoop._read_from_self()\n",
      "handle: <Handle BaseSelectorEventLoop._read_from_self()>\n",
      "Traceback (most recent call last):\n",
      "  File \"C:\\anaconda3\\lib\\asyncio\\events.py\", line 81, in _run\n",
      "    self._context.run(self._callback, *self._args)\n",
      "  File \"C:\\anaconda3\\lib\\asyncio\\selector_events.py\", line 120, in _read_from_self\n",
      "    data = self._ssock.recv(4096)\n",
      "ConnectionResetError: [WinError 10054] An existing connection was forcibly closed by the remote host\n"
     ]
    },
    {
     "name": "stderr",
     "output_type": "stream",
     "text": [
      "Exception in callback BaseSelectorEventLoop._read_from_self()\n",
      "handle: <Handle BaseSelectorEventLoop._read_from_self()>\n",
      "Traceback (most recent call last):\n",
      "  File \"C:\\anaconda3\\lib\\asyncio\\events.py\", line 81, in _run\n",
      "    self._context.run(self._callback, *self._args)\n",
      "  File \"C:\\anaconda3\\lib\\asyncio\\selector_events.py\", line 120, in _read_from_self\n",
      "    data = self._ssock.recv(4096)\n",
      "ConnectionResetError: [WinError 10054] An existing connection was forcibly closed by the remote host\n",
      "Exception in callback BaseSelectorEventLoop._read_from_self()\n",
      "handle: <Handle BaseSelectorEventLoop._read_from_self()>\n",
      "Traceback (most recent call last):\n",
      "  File \"C:\\anaconda3\\lib\\asyncio\\events.py\", line 81, in _run\n",
      "    self._context.run(self._callback, *self._args)\n",
      "  File \"C:\\anaconda3\\lib\\asyncio\\selector_events.py\", line 120, in _read_from_self\n",
      "    data = self._ssock.recv(4096)\n",
      "ConnectionResetError: [WinError 10054] An existing connection was forcibly closed by the remote host\n",
      "Exception in callback BaseSelectorEventLoop._read_from_self()\n",
      "handle: <Handle BaseSelectorEventLoop._read_from_self()>\n",
      "Traceback (most recent call last):\n",
      "  File \"C:\\anaconda3\\lib\\asyncio\\events.py\", line 81, in _run\n",
      "    self._context.run(self._callback, *self._args)\n",
      "  File \"C:\\anaconda3\\lib\\asyncio\\selector_events.py\", line 120, in _read_from_self\n",
      "    data = self._ssock.recv(4096)\n",
      "ConnectionResetError: [WinError 10054] An existing connection was forcibly closed by the remote host\n",
      "Exception in callback BaseSelectorEventLoop._read_from_self()\n",
      "handle: <Handle BaseSelectorEventLoop._read_from_self()>\n",
      "Traceback (most recent call last):\n",
      "  File \"C:\\anaconda3\\lib\\asyncio\\events.py\", line 81, in _run\n",
      "    self._context.run(self._callback, *self._args)\n",
      "  File \"C:\\anaconda3\\lib\\asyncio\\selector_events.py\", line 120, in _read_from_self\n",
      "    data = self._ssock.recv(4096)\n",
      "ConnectionResetError: [WinError 10054] An existing connection was forcibly closed by the remote host\n",
      "Exception in callback BaseSelectorEventLoop._read_from_self()\n",
      "handle: <Handle BaseSelectorEventLoop._read_from_self()>\n",
      "Traceback (most recent call last):\n",
      "  File \"C:\\anaconda3\\lib\\asyncio\\events.py\", line 81, in _run\n",
      "    self._context.run(self._callback, *self._args)\n",
      "  File \"C:\\anaconda3\\lib\\asyncio\\selector_events.py\", line 120, in _read_from_self\n",
      "    data = self._ssock.recv(4096)\n",
      "ConnectionResetError: [WinError 10054] An existing connection was forcibly closed by the remote host\n",
      "Exception in callback BaseSelectorEventLoop._read_from_self()\n",
      "handle: <Handle BaseSelectorEventLoop._read_from_self()>\n",
      "Traceback (most recent call last):\n",
      "  File \"C:\\anaconda3\\lib\\asyncio\\events.py\", line 81, in _run\n",
      "    self._context.run(self._callback, *self._args)\n",
      "  File \"C:\\anaconda3\\lib\\asyncio\\selector_events.py\", line 120, in _read_from_self\n",
      "    data = self._ssock.recv(4096)\n",
      "ConnectionResetError: [WinError 10054] An existing connection was forcibly closed by the remote host\n",
      "Exception in callback BaseSelectorEventLoop._read_from_self()\n",
      "handle: <Handle BaseSelectorEventLoop._read_from_self()>\n",
      "Traceback (most recent call last):\n",
      "  File \"C:\\anaconda3\\lib\\asyncio\\events.py\", line 81, in _run\n",
      "    self._context.run(self._callback, *self._args)\n",
      "  File \"C:\\anaconda3\\lib\\asyncio\\selector_events.py\", line 120, in _read_from_self\n",
      "    data = self._ssock.recv(4096)\n",
      "ConnectionResetError: [WinError 10054] An existing connection was forcibly closed by the remote host\n",
      "Exception in callback BaseSelectorEventLoop._read_from_self()\n",
      "handle: <Handle BaseSelectorEventLoop._read_from_self()>\n",
      "Traceback (most recent call last):\n",
      "  File \"C:\\anaconda3\\lib\\asyncio\\events.py\", line 81, in _run\n",
      "    self._context.run(self._callback, *self._args)\n",
      "  File \"C:\\anaconda3\\lib\\asyncio\\selector_events.py\", line 120, in _read_from_self\n",
      "    data = self._ssock.recv(4096)\n",
      "ConnectionResetError: [WinError 10054] An existing connection was forcibly closed by the remote host\n",
      "Exception in callback BaseSelectorEventLoop._read_from_self()\n",
      "handle: <Handle BaseSelectorEventLoop._read_from_self()>\n",
      "Traceback (most recent call last):\n",
      "  File \"C:\\anaconda3\\lib\\asyncio\\events.py\", line 81, in _run\n",
      "    self._context.run(self._callback, *self._args)\n",
      "  File \"C:\\anaconda3\\lib\\asyncio\\selector_events.py\", line 120, in _read_from_self\n",
      "    data = self._ssock.recv(4096)\n",
      "ConnectionResetError: [WinError 10054] An existing connection was forcibly closed by the remote host\n",
      "Exception in callback BaseSelectorEventLoop._read_from_self()\n",
      "handle: <Handle BaseSelectorEventLoop._read_from_self()>\n",
      "Traceback (most recent call last):\n",
      "  File \"C:\\anaconda3\\lib\\asyncio\\events.py\", line 81, in _run\n",
      "    self._context.run(self._callback, *self._args)\n",
      "  File \"C:\\anaconda3\\lib\\asyncio\\selector_events.py\", line 120, in _read_from_self\n",
      "    data = self._ssock.recv(4096)\n",
      "ConnectionResetError: [WinError 10054] An existing connection was forcibly closed by the remote host\n",
      "Exception in callback BaseSelectorEventLoop._read_from_self()\n",
      "handle: <Handle BaseSelectorEventLoop._read_from_self()>\n",
      "Traceback (most recent call last):\n",
      "  File \"C:\\anaconda3\\lib\\asyncio\\events.py\", line 81, in _run\n",
      "    self._context.run(self._callback, *self._args)\n",
      "  File \"C:\\anaconda3\\lib\\asyncio\\selector_events.py\", line 120, in _read_from_self\n",
      "    data = self._ssock.recv(4096)\n",
      "ConnectionResetError: [WinError 10054] An existing connection was forcibly closed by the remote host\n",
      "Exception in callback BaseSelectorEventLoop._read_from_self()\n",
      "handle: <Handle BaseSelectorEventLoop._read_from_self()>\n",
      "Traceback (most recent call last):\n",
      "  File \"C:\\anaconda3\\lib\\asyncio\\events.py\", line 81, in _run\n",
      "    self._context.run(self._callback, *self._args)\n",
      "  File \"C:\\anaconda3\\lib\\asyncio\\selector_events.py\", line 120, in _read_from_self\n",
      "    data = self._ssock.recv(4096)\n",
      "ConnectionResetError: [WinError 10054] An existing connection was forcibly closed by the remote host\n",
      "Exception in callback BaseSelectorEventLoop._read_from_self()\n",
      "handle: <Handle BaseSelectorEventLoop._read_from_self()>\n",
      "Traceback (most recent call last):\n",
      "  File \"C:\\anaconda3\\lib\\asyncio\\events.py\", line 81, in _run\n",
      "    self._context.run(self._callback, *self._args)\n",
      "  File \"C:\\anaconda3\\lib\\asyncio\\selector_events.py\", line 120, in _read_from_self\n",
      "    data = self._ssock.recv(4096)\n",
      "ConnectionResetError: [WinError 10054] An existing connection was forcibly closed by the remote host\n",
      "Exception in callback BaseSelectorEventLoop._read_from_self()\n",
      "handle: <Handle BaseSelectorEventLoop._read_from_self()>\n",
      "Traceback (most recent call last):\n",
      "  File \"C:\\anaconda3\\lib\\asyncio\\events.py\", line 81, in _run\n",
      "    self._context.run(self._callback, *self._args)\n",
      "  File \"C:\\anaconda3\\lib\\asyncio\\selector_events.py\", line 120, in _read_from_self\n",
      "    data = self._ssock.recv(4096)\n",
      "ConnectionResetError: [WinError 10054] An existing connection was forcibly closed by the remote host\n",
      "Exception in callback BaseSelectorEventLoop._read_from_self()\n",
      "handle: <Handle BaseSelectorEventLoop._read_from_self()>\n",
      "Traceback (most recent call last):\n",
      "  File \"C:\\anaconda3\\lib\\asyncio\\events.py\", line 81, in _run\n",
      "    self._context.run(self._callback, *self._args)\n",
      "  File \"C:\\anaconda3\\lib\\asyncio\\selector_events.py\", line 120, in _read_from_self\n",
      "    data = self._ssock.recv(4096)\n",
      "ConnectionResetError: [WinError 10054] An existing connection was forcibly closed by the remote host\n",
      "Exception in callback BaseSelectorEventLoop._read_from_self()\n",
      "handle: <Handle BaseSelectorEventLoop._read_from_self()>\n",
      "Traceback (most recent call last):\n",
      "  File \"C:\\anaconda3\\lib\\asyncio\\events.py\", line 81, in _run\n",
      "    self._context.run(self._callback, *self._args)\n",
      "  File \"C:\\anaconda3\\lib\\asyncio\\selector_events.py\", line 120, in _read_from_self\n",
      "    data = self._ssock.recv(4096)\n",
      "ConnectionResetError: [WinError 10054] An existing connection was forcibly closed by the remote host\n",
      "Exception in callback BaseSelectorEventLoop._read_from_self()\n",
      "handle: <Handle BaseSelectorEventLoop._read_from_self()>\n",
      "Traceback (most recent call last):\n",
      "  File \"C:\\anaconda3\\lib\\asyncio\\events.py\", line 81, in _run\n",
      "    self._context.run(self._callback, *self._args)\n",
      "  File \"C:\\anaconda3\\lib\\asyncio\\selector_events.py\", line 120, in _read_from_self\n",
      "    data = self._ssock.recv(4096)\n",
      "ConnectionResetError: [WinError 10054] An existing connection was forcibly closed by the remote host\n"
     ]
    },
    {
     "name": "stderr",
     "output_type": "stream",
     "text": [
      "Exception in callback BaseSelectorEventLoop._read_from_self()\n",
      "handle: <Handle BaseSelectorEventLoop._read_from_self()>\n",
      "Traceback (most recent call last):\n",
      "  File \"C:\\anaconda3\\lib\\asyncio\\events.py\", line 81, in _run\n",
      "    self._context.run(self._callback, *self._args)\n",
      "  File \"C:\\anaconda3\\lib\\asyncio\\selector_events.py\", line 120, in _read_from_self\n",
      "    data = self._ssock.recv(4096)\n",
      "ConnectionResetError: [WinError 10054] An existing connection was forcibly closed by the remote host\n",
      "Exception in callback BaseSelectorEventLoop._read_from_self()\n",
      "handle: <Handle BaseSelectorEventLoop._read_from_self()>\n",
      "Traceback (most recent call last):\n",
      "  File \"C:\\anaconda3\\lib\\asyncio\\events.py\", line 81, in _run\n",
      "    self._context.run(self._callback, *self._args)\n",
      "  File \"C:\\anaconda3\\lib\\asyncio\\selector_events.py\", line 120, in _read_from_self\n",
      "    data = self._ssock.recv(4096)\n",
      "ConnectionResetError: [WinError 10054] An existing connection was forcibly closed by the remote host\n",
      "Exception in callback BaseSelectorEventLoop._read_from_self()\n",
      "handle: <Handle BaseSelectorEventLoop._read_from_self()>\n",
      "Traceback (most recent call last):\n",
      "  File \"C:\\anaconda3\\lib\\asyncio\\events.py\", line 81, in _run\n",
      "    self._context.run(self._callback, *self._args)\n",
      "  File \"C:\\anaconda3\\lib\\asyncio\\selector_events.py\", line 120, in _read_from_self\n",
      "    data = self._ssock.recv(4096)\n",
      "ConnectionResetError: [WinError 10054] An existing connection was forcibly closed by the remote host\n",
      "Exception in callback BaseSelectorEventLoop._read_from_self()\n",
      "handle: <Handle BaseSelectorEventLoop._read_from_self()>\n",
      "Traceback (most recent call last):\n",
      "  File \"C:\\anaconda3\\lib\\asyncio\\events.py\", line 81, in _run\n",
      "    self._context.run(self._callback, *self._args)\n",
      "  File \"C:\\anaconda3\\lib\\asyncio\\selector_events.py\", line 120, in _read_from_self\n",
      "    data = self._ssock.recv(4096)\n",
      "ConnectionResetError: [WinError 10054] An existing connection was forcibly closed by the remote host\n",
      "Exception in callback BaseSelectorEventLoop._read_from_self()\n",
      "handle: <Handle BaseSelectorEventLoop._read_from_self()>\n",
      "Traceback (most recent call last):\n",
      "  File \"C:\\anaconda3\\lib\\asyncio\\events.py\", line 81, in _run\n",
      "    self._context.run(self._callback, *self._args)\n",
      "  File \"C:\\anaconda3\\lib\\asyncio\\selector_events.py\", line 120, in _read_from_self\n",
      "    data = self._ssock.recv(4096)\n",
      "ConnectionResetError: [WinError 10054] An existing connection was forcibly closed by the remote host\n",
      "Exception in callback BaseSelectorEventLoop._read_from_self()\n",
      "handle: <Handle BaseSelectorEventLoop._read_from_self()>\n",
      "Traceback (most recent call last):\n",
      "  File \"C:\\anaconda3\\lib\\asyncio\\events.py\", line 81, in _run\n",
      "    self._context.run(self._callback, *self._args)\n",
      "  File \"C:\\anaconda3\\lib\\asyncio\\selector_events.py\", line 120, in _read_from_self\n",
      "    data = self._ssock.recv(4096)\n",
      "ConnectionResetError: [WinError 10054] An existing connection was forcibly closed by the remote host\n",
      "Exception in callback BaseSelectorEventLoop._read_from_self()\n",
      "handle: <Handle BaseSelectorEventLoop._read_from_self()>\n",
      "Traceback (most recent call last):\n",
      "  File \"C:\\anaconda3\\lib\\asyncio\\events.py\", line 81, in _run\n",
      "    self._context.run(self._callback, *self._args)\n",
      "  File \"C:\\anaconda3\\lib\\asyncio\\selector_events.py\", line 120, in _read_from_self\n",
      "    data = self._ssock.recv(4096)\n",
      "ConnectionResetError: [WinError 10054] An existing connection was forcibly closed by the remote host\n",
      "Exception in callback BaseSelectorEventLoop._read_from_self()\n",
      "handle: <Handle BaseSelectorEventLoop._read_from_self()>\n",
      "Traceback (most recent call last):\n",
      "  File \"C:\\anaconda3\\lib\\asyncio\\events.py\", line 81, in _run\n",
      "    self._context.run(self._callback, *self._args)\n",
      "  File \"C:\\anaconda3\\lib\\asyncio\\selector_events.py\", line 120, in _read_from_self\n",
      "    data = self._ssock.recv(4096)\n",
      "ConnectionResetError: [WinError 10054] An existing connection was forcibly closed by the remote host\n",
      "Exception in callback BaseSelectorEventLoop._read_from_self()\n",
      "handle: <Handle BaseSelectorEventLoop._read_from_self()>\n",
      "Traceback (most recent call last):\n",
      "  File \"C:\\anaconda3\\lib\\asyncio\\events.py\", line 81, in _run\n",
      "    self._context.run(self._callback, *self._args)\n",
      "  File \"C:\\anaconda3\\lib\\asyncio\\selector_events.py\", line 120, in _read_from_self\n",
      "    data = self._ssock.recv(4096)\n",
      "ConnectionResetError: [WinError 10054] An existing connection was forcibly closed by the remote host\n",
      "Exception in callback BaseSelectorEventLoop._read_from_self()\n",
      "handle: <Handle BaseSelectorEventLoop._read_from_self()>\n",
      "Traceback (most recent call last):\n",
      "  File \"C:\\anaconda3\\lib\\asyncio\\events.py\", line 81, in _run\n",
      "    self._context.run(self._callback, *self._args)\n",
      "  File \"C:\\anaconda3\\lib\\asyncio\\selector_events.py\", line 120, in _read_from_self\n",
      "    data = self._ssock.recv(4096)\n",
      "ConnectionResetError: [WinError 10054] An existing connection was forcibly closed by the remote host\n",
      "Exception in callback BaseSelectorEventLoop._read_from_self()\n",
      "handle: <Handle BaseSelectorEventLoop._read_from_self()>\n",
      "Traceback (most recent call last):\n",
      "  File \"C:\\anaconda3\\lib\\asyncio\\events.py\", line 81, in _run\n",
      "    self._context.run(self._callback, *self._args)\n",
      "  File \"C:\\anaconda3\\lib\\asyncio\\selector_events.py\", line 120, in _read_from_self\n",
      "    data = self._ssock.recv(4096)\n",
      "ConnectionResetError: [WinError 10054] An existing connection was forcibly closed by the remote host\n",
      "Exception in callback BaseSelectorEventLoop._read_from_self()\n",
      "handle: <Handle BaseSelectorEventLoop._read_from_self()>\n",
      "Traceback (most recent call last):\n",
      "  File \"C:\\anaconda3\\lib\\asyncio\\events.py\", line 81, in _run\n",
      "    self._context.run(self._callback, *self._args)\n",
      "  File \"C:\\anaconda3\\lib\\asyncio\\selector_events.py\", line 120, in _read_from_self\n",
      "    data = self._ssock.recv(4096)\n",
      "ConnectionResetError: [WinError 10054] An existing connection was forcibly closed by the remote host\n",
      "Exception in callback BaseSelectorEventLoop._read_from_self()\n",
      "handle: <Handle BaseSelectorEventLoop._read_from_self()>\n",
      "Traceback (most recent call last):\n",
      "  File \"C:\\anaconda3\\lib\\asyncio\\events.py\", line 81, in _run\n",
      "    self._context.run(self._callback, *self._args)\n",
      "  File \"C:\\anaconda3\\lib\\asyncio\\selector_events.py\", line 120, in _read_from_self\n",
      "    data = self._ssock.recv(4096)\n",
      "ConnectionResetError: [WinError 10054] An existing connection was forcibly closed by the remote host\n",
      "Exception in callback BaseSelectorEventLoop._read_from_self()\n",
      "handle: <Handle BaseSelectorEventLoop._read_from_self()>\n",
      "Traceback (most recent call last):\n",
      "  File \"C:\\anaconda3\\lib\\asyncio\\events.py\", line 81, in _run\n",
      "    self._context.run(self._callback, *self._args)\n",
      "  File \"C:\\anaconda3\\lib\\asyncio\\selector_events.py\", line 120, in _read_from_self\n",
      "    data = self._ssock.recv(4096)\n",
      "ConnectionResetError: [WinError 10054] An existing connection was forcibly closed by the remote host\n",
      "Exception in callback BaseSelectorEventLoop._read_from_self()\n",
      "handle: <Handle BaseSelectorEventLoop._read_from_self()>\n",
      "Traceback (most recent call last):\n",
      "  File \"C:\\anaconda3\\lib\\asyncio\\events.py\", line 81, in _run\n",
      "    self._context.run(self._callback, *self._args)\n",
      "  File \"C:\\anaconda3\\lib\\asyncio\\selector_events.py\", line 120, in _read_from_self\n",
      "    data = self._ssock.recv(4096)\n",
      "ConnectionResetError: [WinError 10054] An existing connection was forcibly closed by the remote host\n",
      "Exception in callback BaseSelectorEventLoop._read_from_self()\n",
      "handle: <Handle BaseSelectorEventLoop._read_from_self()>\n",
      "Traceback (most recent call last):\n",
      "  File \"C:\\anaconda3\\lib\\asyncio\\events.py\", line 81, in _run\n",
      "    self._context.run(self._callback, *self._args)\n",
      "  File \"C:\\anaconda3\\lib\\asyncio\\selector_events.py\", line 120, in _read_from_self\n",
      "    data = self._ssock.recv(4096)\n",
      "ConnectionResetError: [WinError 10054] An existing connection was forcibly closed by the remote host\n",
      "Exception in callback BaseSelectorEventLoop._read_from_self()\n",
      "handle: <Handle BaseSelectorEventLoop._read_from_self()>\n",
      "Traceback (most recent call last):\n",
      "  File \"C:\\anaconda3\\lib\\asyncio\\events.py\", line 81, in _run\n",
      "    self._context.run(self._callback, *self._args)\n",
      "  File \"C:\\anaconda3\\lib\\asyncio\\selector_events.py\", line 120, in _read_from_self\n",
      "    data = self._ssock.recv(4096)\n",
      "ConnectionResetError: [WinError 10054] An existing connection was forcibly closed by the remote host\n"
     ]
    },
    {
     "name": "stderr",
     "output_type": "stream",
     "text": [
      "Exception in callback BaseSelectorEventLoop._read_from_self()\n",
      "handle: <Handle BaseSelectorEventLoop._read_from_self()>\n",
      "Traceback (most recent call last):\n",
      "  File \"C:\\anaconda3\\lib\\asyncio\\events.py\", line 81, in _run\n",
      "    self._context.run(self._callback, *self._args)\n",
      "  File \"C:\\anaconda3\\lib\\asyncio\\selector_events.py\", line 120, in _read_from_self\n",
      "    data = self._ssock.recv(4096)\n",
      "ConnectionResetError: [WinError 10054] An existing connection was forcibly closed by the remote host\n",
      "Exception in callback BaseSelectorEventLoop._read_from_self()\n",
      "handle: <Handle BaseSelectorEventLoop._read_from_self()>\n",
      "Traceback (most recent call last):\n",
      "  File \"C:\\anaconda3\\lib\\asyncio\\events.py\", line 81, in _run\n",
      "    self._context.run(self._callback, *self._args)\n",
      "  File \"C:\\anaconda3\\lib\\asyncio\\selector_events.py\", line 120, in _read_from_self\n",
      "    data = self._ssock.recv(4096)\n",
      "ConnectionResetError: [WinError 10054] An existing connection was forcibly closed by the remote host\n",
      "Exception in callback BaseSelectorEventLoop._read_from_self()\n",
      "handle: <Handle BaseSelectorEventLoop._read_from_self()>\n",
      "Traceback (most recent call last):\n",
      "  File \"C:\\anaconda3\\lib\\asyncio\\events.py\", line 81, in _run\n",
      "    self._context.run(self._callback, *self._args)\n",
      "  File \"C:\\anaconda3\\lib\\asyncio\\selector_events.py\", line 120, in _read_from_self\n",
      "    data = self._ssock.recv(4096)\n",
      "ConnectionResetError: [WinError 10054] An existing connection was forcibly closed by the remote host\n",
      "Exception in callback BaseSelectorEventLoop._read_from_self()\n",
      "handle: <Handle BaseSelectorEventLoop._read_from_self()>\n",
      "Traceback (most recent call last):\n",
      "  File \"C:\\anaconda3\\lib\\asyncio\\events.py\", line 81, in _run\n",
      "    self._context.run(self._callback, *self._args)\n",
      "  File \"C:\\anaconda3\\lib\\asyncio\\selector_events.py\", line 120, in _read_from_self\n",
      "    data = self._ssock.recv(4096)\n",
      "ConnectionResetError: [WinError 10054] An existing connection was forcibly closed by the remote host\n",
      "Exception in callback BaseSelectorEventLoop._read_from_self()\n",
      "handle: <Handle BaseSelectorEventLoop._read_from_self()>\n",
      "Traceback (most recent call last):\n",
      "  File \"C:\\anaconda3\\lib\\asyncio\\events.py\", line 81, in _run\n",
      "    self._context.run(self._callback, *self._args)\n",
      "  File \"C:\\anaconda3\\lib\\asyncio\\selector_events.py\", line 120, in _read_from_self\n",
      "    data = self._ssock.recv(4096)\n",
      "ConnectionResetError: [WinError 10054] An existing connection was forcibly closed by the remote host\n",
      "Exception in callback BaseSelectorEventLoop._read_from_self()\n",
      "handle: <Handle BaseSelectorEventLoop._read_from_self()>\n",
      "Traceback (most recent call last):\n",
      "  File \"C:\\anaconda3\\lib\\asyncio\\events.py\", line 81, in _run\n",
      "    self._context.run(self._callback, *self._args)\n",
      "  File \"C:\\anaconda3\\lib\\asyncio\\selector_events.py\", line 120, in _read_from_self\n",
      "    data = self._ssock.recv(4096)\n",
      "ConnectionResetError: [WinError 10054] An existing connection was forcibly closed by the remote host\n"
     ]
    }
   ],
   "source": [
    "scores3 = cross_val_score(randomsearch, x, y, cv=5)\n",
    "scores3"
   ]
  },
  {
   "cell_type": "markdown",
   "id": "364a570b",
   "metadata": {},
   "source": [
    "# Random Forest"
   ]
  },
  {
   "cell_type": "code",
   "execution_count": 69,
   "id": "f6255827",
   "metadata": {},
   "outputs": [],
   "source": [
    "from sklearn.ensemble import RandomForestClassifier"
   ]
  },
  {
   "cell_type": "code",
   "execution_count": 70,
   "id": "9ca89845",
   "metadata": {},
   "outputs": [
    {
     "data": {
      "text/plain": [
       "RandomForestClassifier()"
      ]
     },
     "execution_count": 70,
     "metadata": {},
     "output_type": "execute_result"
    }
   ],
   "source": [
    "model3 = RandomForestClassifier()\n",
    "model3.fit(X_train, y_train)"
   ]
  },
  {
   "cell_type": "code",
   "execution_count": 71,
   "id": "7dbeb366",
   "metadata": {},
   "outputs": [],
   "source": [
    "y_pred3 = model3.predict(X_test)"
   ]
  },
  {
   "cell_type": "code",
   "execution_count": 72,
   "id": "eb83f1d9",
   "metadata": {},
   "outputs": [
    {
     "data": {
      "text/plain": [
       "1.0"
      ]
     },
     "execution_count": 72,
     "metadata": {},
     "output_type": "execute_result"
    }
   ],
   "source": [
    "model3.score(X_train, y_train)"
   ]
  },
  {
   "cell_type": "code",
   "execution_count": 73,
   "id": "4dce5cf0",
   "metadata": {},
   "outputs": [
    {
     "data": {
      "text/plain": [
       "0.9998874491762687"
      ]
     },
     "execution_count": 73,
     "metadata": {},
     "output_type": "execute_result"
    }
   ],
   "source": [
    "model3.score(X_test,y_test)"
   ]
  },
  {
   "cell_type": "code",
   "execution_count": 74,
   "id": "dec2d77c",
   "metadata": {},
   "outputs": [
    {
     "data": {
      "text/plain": [
       "array([[70840,    16],\n",
       "       [    0, 71302]], dtype=int64)"
      ]
     },
     "execution_count": 74,
     "metadata": {},
     "output_type": "execute_result"
    }
   ],
   "source": [
    "confusion_matrix(y_test,y_pred3)"
   ]
  },
  {
   "cell_type": "code",
   "execution_count": 75,
   "id": "90ac512f",
   "metadata": {},
   "outputs": [
    {
     "data": {
      "image/png": "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\n",
      "text/plain": [
       "<Figure size 432x288 with 2 Axes>"
      ]
     },
     "metadata": {},
     "output_type": "display_data"
    }
   ],
   "source": [
    "cm3 = plot_confusion_matrix(model3, X_test, y_test)"
   ]
  },
  {
   "cell_type": "code",
   "execution_count": 76,
   "id": "e3be4d27",
   "metadata": {},
   "outputs": [
    {
     "name": "stdout",
     "output_type": "stream",
     "text": [
      "              precision    recall  f1-score   support\n",
      "\n",
      "           0       1.00      1.00      1.00     70840\n",
      "           1       1.00      1.00      1.00     71318\n",
      "\n",
      "    accuracy                           1.00    142158\n",
      "   macro avg       1.00      1.00      1.00    142158\n",
      "weighted avg       1.00      1.00      1.00    142158\n",
      "\n"
     ]
    }
   ],
   "source": [
    "print(classification_report(y_pred3, y_test))"
   ]
  },
  {
   "cell_type": "code",
   "execution_count": 77,
   "id": "bf4f280f",
   "metadata": {},
   "outputs": [],
   "source": [
    "Accuracy3      = accuracy_score(y_test, y_pred3)\n",
    "Precision3     = precision_score(y_test, y_pred3)\n",
    "Recall3        = recall_score(y_test, y_pred3)\n",
    "F1_score3      = f1_score(y_test, y_pred3)\n",
    "roc_auc_score3 = roc_auc_score(y_test,y_pred3)"
   ]
  },
  {
   "cell_type": "code",
   "execution_count": 78,
   "id": "667194de",
   "metadata": {},
   "outputs": [],
   "source": [
    "classification_matrix3 = {\"Accuracy\":Accuracy3, \"Precision\":Precision3, \"Recall\":Recall3, \"F1_score\":F1_score3,\"ROC_AUC\":roc_auc_score3}"
   ]
  },
  {
   "cell_type": "code",
   "execution_count": 79,
   "id": "d866bc95",
   "metadata": {},
   "outputs": [
    {
     "data": {
      "text/html": [
       "<div>\n",
       "<style scoped>\n",
       "    .dataframe tbody tr th:only-of-type {\n",
       "        vertical-align: middle;\n",
       "    }\n",
       "\n",
       "    .dataframe tbody tr th {\n",
       "        vertical-align: top;\n",
       "    }\n",
       "\n",
       "    .dataframe thead th {\n",
       "        text-align: right;\n",
       "    }\n",
       "</style>\n",
       "<table border=\"1\" class=\"dataframe\">\n",
       "  <thead>\n",
       "    <tr style=\"text-align: right;\">\n",
       "      <th></th>\n",
       "      <th>0</th>\n",
       "    </tr>\n",
       "  </thead>\n",
       "  <tbody>\n",
       "    <tr>\n",
       "      <th>Accuracy</th>\n",
       "      <td>0.999887</td>\n",
       "    </tr>\n",
       "    <tr>\n",
       "      <th>Precision</th>\n",
       "      <td>0.999776</td>\n",
       "    </tr>\n",
       "    <tr>\n",
       "      <th>Recall</th>\n",
       "      <td>1.000000</td>\n",
       "    </tr>\n",
       "    <tr>\n",
       "      <th>F1_score</th>\n",
       "      <td>0.999888</td>\n",
       "    </tr>\n",
       "    <tr>\n",
       "      <th>ROC_AUC</th>\n",
       "      <td>0.999887</td>\n",
       "    </tr>\n",
       "  </tbody>\n",
       "</table>\n",
       "</div>"
      ],
      "text/plain": [
       "                  0\n",
       "Accuracy   0.999887\n",
       "Precision  0.999776\n",
       "Recall     1.000000\n",
       "F1_score   0.999888\n",
       "ROC_AUC    0.999887"
      ]
     },
     "execution_count": 79,
     "metadata": {},
     "output_type": "execute_result"
    }
   ],
   "source": [
    "report_df3 = pd.DataFrame([classification_matrix3])\n",
    "report_df3.transpose()"
   ]
  },
  {
   "cell_type": "code",
   "execution_count": 80,
   "id": "a16119d2",
   "metadata": {},
   "outputs": [],
   "source": [
    "fpr1, tpr1, thresh1 = roc_curve(y_test, y_pred3, pos_label=1)\n",
    "\n",
    "# roc curve for tpr = fpr \n",
    "random_probs = [0 for i in range(len(y_test))]\n",
    "r_fpr, r_tpr, _ = roc_curve(y_test, random_probs, pos_label=1)"
   ]
  },
  {
   "cell_type": "code",
   "execution_count": 81,
   "id": "17edeb0b",
   "metadata": {},
   "outputs": [
    {
     "data": {
      "image/png": "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\n",
      "text/plain": [
       "<Figure size 432x288 with 1 Axes>"
      ]
     },
     "metadata": {},
     "output_type": "display_data"
    }
   ],
   "source": [
    "plt.plot(fpr1, tpr1, linestyle='-',color='green', label='Random Forest')\n",
    "plt.plot(r_fpr, r_tpr, linestyle='--', color='blue')\n",
    "# title\n",
    "plt.title('ROC curve')\n",
    "# x label\n",
    "plt.xlabel('False Positive Rate')\n",
    "# y label\n",
    "plt.ylabel('True Positive rate')\n",
    "\n",
    "plt.legend(loc='best')\n",
    "plt.savefig('ROC',dpi=300)\n",
    "plt.show();"
   ]
  },
  {
   "cell_type": "markdown",
   "id": "0520c576",
   "metadata": {},
   "source": [
    "# XGboost Classifier"
   ]
  },
  {
   "cell_type": "code",
   "execution_count": 82,
   "id": "902e387f",
   "metadata": {},
   "outputs": [
    {
     "name": "stdout",
     "output_type": "stream",
     "text": [
      "Requirement already satisfied: xgboost in c:\\anaconda3\\lib\\site-packages (1.4.2)\n",
      "Requirement already satisfied: scipy in c:\\anaconda3\\lib\\site-packages (from xgboost) (1.6.2)\n",
      "Requirement already satisfied: numpy in c:\\anaconda3\\lib\\site-packages (from xgboost) (1.19.5)\n"
     ]
    }
   ],
   "source": [
    "!pip install xgboost"
   ]
  },
  {
   "cell_type": "code",
   "execution_count": 83,
   "id": "53c2ad17",
   "metadata": {},
   "outputs": [],
   "source": [
    "from xgboost import XGBClassifier"
   ]
  },
  {
   "cell_type": "code",
   "execution_count": 84,
   "id": "bbbd799a",
   "metadata": {},
   "outputs": [
    {
     "name": "stderr",
     "output_type": "stream",
     "text": [
      "C:\\anaconda3\\lib\\site-packages\\xgboost\\sklearn.py:1146: UserWarning: The use of label encoder in XGBClassifier is deprecated and will be removed in a future release. To remove this warning, do the following: 1) Pass option use_label_encoder=False when constructing XGBClassifier object; and 2) Encode your labels (y) as integers starting with 0, i.e. 0, 1, 2, ..., [num_class - 1].\n",
      "  warnings.warn(label_encoder_deprecation_msg, UserWarning)\n"
     ]
    },
    {
     "name": "stdout",
     "output_type": "stream",
     "text": [
      "[12:19:46] WARNING: C:/Users/Administrator/workspace/xgboost-win64_release_1.4.0/src/learner.cc:1095: Starting in XGBoost 1.3.0, the default evaluation metric used with the objective 'binary:logistic' was changed from 'error' to 'logloss'. Explicitly set eval_metric if you'd like to restore the old behavior.\n"
     ]
    },
    {
     "data": {
      "text/plain": [
       "XGBClassifier(base_score=0.5, booster='gbtree', colsample_bylevel=1,\n",
       "              colsample_bynode=1, colsample_bytree=1, gamma=0, gpu_id=-1,\n",
       "              importance_type='gain', interaction_constraints='',\n",
       "              learning_rate=0.300000012, max_delta_step=0, max_depth=6,\n",
       "              min_child_weight=1, missing=nan, monotone_constraints='()',\n",
       "              n_estimators=100, n_jobs=4, num_parallel_tree=1, random_state=0,\n",
       "              reg_alpha=0, reg_lambda=1, scale_pos_weight=1, subsample=1,\n",
       "              tree_method='exact', validate_parameters=1, verbosity=None)"
      ]
     },
     "execution_count": 84,
     "metadata": {},
     "output_type": "execute_result"
    }
   ],
   "source": [
    "model4 = XGBClassifier()\n",
    "model4.fit(X_train, y_train)"
   ]
  },
  {
   "cell_type": "code",
   "execution_count": 85,
   "id": "8602722c",
   "metadata": {},
   "outputs": [],
   "source": [
    "y_pred4 = model4.predict(X_test)"
   ]
  },
  {
   "cell_type": "code",
   "execution_count": 86,
   "id": "aecfac17",
   "metadata": {},
   "outputs": [
    {
     "data": {
      "text/plain": [
       "1.0"
      ]
     },
     "execution_count": 86,
     "metadata": {},
     "output_type": "execute_result"
    }
   ],
   "source": [
    "model4.score(X_train, y_train)"
   ]
  },
  {
   "cell_type": "code",
   "execution_count": 87,
   "id": "224bdd85",
   "metadata": {},
   "outputs": [
    {
     "data": {
      "text/plain": [
       "0.9998593114703358"
      ]
     },
     "execution_count": 87,
     "metadata": {},
     "output_type": "execute_result"
    }
   ],
   "source": [
    "model4.score(X_test, y_test)"
   ]
  },
  {
   "cell_type": "code",
   "execution_count": 88,
   "id": "308ec56a",
   "metadata": {},
   "outputs": [],
   "source": [
    "cm4 = confusion_matrix(y_test, y_pred4)"
   ]
  },
  {
   "cell_type": "code",
   "execution_count": 89,
   "id": "767ab57a",
   "metadata": {},
   "outputs": [
    {
     "data": {
      "text/plain": [
       "array([[70836,    20],\n",
       "       [    0, 71302]], dtype=int64)"
      ]
     },
     "execution_count": 89,
     "metadata": {},
     "output_type": "execute_result"
    }
   ],
   "source": [
    "cm4"
   ]
  },
  {
   "cell_type": "code",
   "execution_count": 90,
   "id": "cca6bf0b",
   "metadata": {},
   "outputs": [
    {
     "data": {
      "text/plain": [
       "<sklearn.metrics._plot.confusion_matrix.ConfusionMatrixDisplay at 0x276b0f05550>"
      ]
     },
     "execution_count": 90,
     "metadata": {},
     "output_type": "execute_result"
    },
    {
     "data": {
      "image/png": "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\n",
      "text/plain": [
       "<Figure size 432x288 with 2 Axes>"
      ]
     },
     "metadata": {},
     "output_type": "display_data"
    }
   ],
   "source": [
    "plot_confusion_matrix(model4, X_test, y_test)"
   ]
  },
  {
   "cell_type": "code",
   "execution_count": 91,
   "id": "52013ff9",
   "metadata": {},
   "outputs": [
    {
     "name": "stdout",
     "output_type": "stream",
     "text": [
      "              precision    recall  f1-score   support\n",
      "\n",
      "           0       1.00      1.00      1.00     70836\n",
      "           1       1.00      1.00      1.00     71322\n",
      "\n",
      "    accuracy                           1.00    142158\n",
      "   macro avg       1.00      1.00      1.00    142158\n",
      "weighted avg       1.00      1.00      1.00    142158\n",
      "\n"
     ]
    }
   ],
   "source": [
    "print(classification_report(y_pred4, y_test))"
   ]
  },
  {
   "cell_type": "code",
   "execution_count": 92,
   "id": "aed4a3f8",
   "metadata": {},
   "outputs": [],
   "source": [
    "Accuracy4     = accuracy_score(y_test, y_pred4)\n",
    "Precision4     = precision_score(y_test, y_pred4)\n",
    "Recall4        = recall_score(y_test, y_pred4)\n",
    "F1_score4      = f1_score(y_test, y_pred4)\n",
    "roc_auc_score4 = roc_auc_score(y_test,y_pred4)"
   ]
  },
  {
   "cell_type": "code",
   "execution_count": 93,
   "id": "6b3c4a86",
   "metadata": {},
   "outputs": [],
   "source": [
    "classification_matrix4 = {\"Accuracy\":Accuracy4, \"Precision\":Precision4, \"Recall\":Recall4, \"F1_score\":F1_score4,\"ROC_AUC\":roc_auc_score4}"
   ]
  },
  {
   "cell_type": "code",
   "execution_count": 94,
   "id": "81708471",
   "metadata": {},
   "outputs": [
    {
     "data": {
      "text/html": [
       "<div>\n",
       "<style scoped>\n",
       "    .dataframe tbody tr th:only-of-type {\n",
       "        vertical-align: middle;\n",
       "    }\n",
       "\n",
       "    .dataframe tbody tr th {\n",
       "        vertical-align: top;\n",
       "    }\n",
       "\n",
       "    .dataframe thead th {\n",
       "        text-align: right;\n",
       "    }\n",
       "</style>\n",
       "<table border=\"1\" class=\"dataframe\">\n",
       "  <thead>\n",
       "    <tr style=\"text-align: right;\">\n",
       "      <th></th>\n",
       "      <th>0</th>\n",
       "    </tr>\n",
       "  </thead>\n",
       "  <tbody>\n",
       "    <tr>\n",
       "      <th>Accuracy</th>\n",
       "      <td>0.999859</td>\n",
       "    </tr>\n",
       "    <tr>\n",
       "      <th>Precision</th>\n",
       "      <td>0.999720</td>\n",
       "    </tr>\n",
       "    <tr>\n",
       "      <th>Recall</th>\n",
       "      <td>1.000000</td>\n",
       "    </tr>\n",
       "    <tr>\n",
       "      <th>F1_score</th>\n",
       "      <td>0.999860</td>\n",
       "    </tr>\n",
       "    <tr>\n",
       "      <th>ROC_AUC</th>\n",
       "      <td>0.999859</td>\n",
       "    </tr>\n",
       "  </tbody>\n",
       "</table>\n",
       "</div>"
      ],
      "text/plain": [
       "                  0\n",
       "Accuracy   0.999859\n",
       "Precision  0.999720\n",
       "Recall     1.000000\n",
       "F1_score   0.999860\n",
       "ROC_AUC    0.999859"
      ]
     },
     "execution_count": 94,
     "metadata": {},
     "output_type": "execute_result"
    }
   ],
   "source": [
    "report_df4 = pd.DataFrame([classification_matrix4])\n",
    "report_df4.transpose()"
   ]
  },
  {
   "cell_type": "code",
   "execution_count": 95,
   "id": "e8a169d5",
   "metadata": {},
   "outputs": [],
   "source": [
    "fpr1, tpr1, thresh1 = roc_curve(y_test, y_pred4, pos_label=1)\n",
    "\n",
    "# roc curve for tpr = fpr \n",
    "random_probs = [0 for i in range(len(y_test))]\n",
    "s_fpr,s_tpr, _ = roc_curve(y_test, random_probs, pos_label=1)"
   ]
  },
  {
   "cell_type": "code",
   "execution_count": 96,
   "id": "45cdcb6f",
   "metadata": {},
   "outputs": [
    {
     "data": {
      "image/png": "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\n",
      "text/plain": [
       "<Figure size 432x288 with 1 Axes>"
      ]
     },
     "metadata": {},
     "output_type": "display_data"
    }
   ],
   "source": [
    "plt.plot(fpr1, tpr1, linestyle='-',color='green', label='Random Forest')\n",
    "plt.plot(s_fpr, s_tpr, linestyle='--', color='blue')\n",
    "# title\n",
    "plt.title('ROC curve')\n",
    "# x label\n",
    "plt.xlabel('False Positive Rate')\n",
    "# y label\n",
    "plt.ylabel('True Positive rate')\n",
    "\n",
    "plt.legend(loc='best')\n",
    "plt.savefig('ROC',dpi=300)\n",
    "plt.show();"
   ]
  },
  {
   "cell_type": "markdown",
   "id": "199407d8",
   "metadata": {},
   "source": [
    "# Suport vector Machine(SVM)"
   ]
  },
  {
   "cell_type": "code",
   "execution_count": 97,
   "id": "16d78d80",
   "metadata": {},
   "outputs": [],
   "source": [
    "#from sklearn import svm\n",
    "\n",
    "\n",
    "#clf = svm.SVC(kernel='linear') \n",
    "\n",
    "\n",
    "#clf.fit(X_train, y_train)\n",
    "\n",
    "\n",
    "#y_pred = clf.predict(X_test) "
   ]
  },
  {
   "cell_type": "code",
   "execution_count": null,
   "id": "4ceb9314",
   "metadata": {},
   "outputs": [],
   "source": [
    "  "
   ]
  }
 ],
 "metadata": {
  "kernelspec": {
   "display_name": "Python 3",
   "language": "python",
   "name": "python3"
  },
  "language_info": {
   "codemirror_mode": {
    "name": "ipython",
    "version": 3
   },
   "file_extension": ".py",
   "mimetype": "text/x-python",
   "name": "python",
   "nbconvert_exporter": "python",
   "pygments_lexer": "ipython3",
   "version": "3.8.8"
  }
 },
 "nbformat": 4,
 "nbformat_minor": 5
}
